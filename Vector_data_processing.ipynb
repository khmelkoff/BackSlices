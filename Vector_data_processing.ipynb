{
 "cells": [
  {
   "cell_type": "markdown",
   "metadata": {},
   "source": [
    "#  BackSlices Algorythm  \n",
    "## Data preprocessing and features generation"
   ]
  },
  {
   "cell_type": "code",
   "execution_count": 1,
   "metadata": {},
   "outputs": [],
   "source": [
    "import pandas as pd\n",
    "import numpy as np\n",
    "import matplotlib.pyplot as plt\n",
    "import datetime\n",
    "from monthdelta import monthdelta, monthmod\n",
    "\n",
    "from dateutil import relativedelta\n",
    "pd.set_option('display.max_columns', 150)"
   ]
  },
  {
   "cell_type": "code",
   "execution_count": 2,
   "metadata": {},
   "outputs": [],
   "source": [
    "import warnings\n",
    "warnings.filterwarnings('ignore')"
   ]
  },
  {
   "cell_type": "markdown",
   "metadata": {},
   "source": [
    "#### Transformation Parameters"
   ]
  },
  {
   "cell_type": "code",
   "execution_count": 3,
   "metadata": {},
   "outputs": [],
   "source": [
    "## output file suffix\n",
    "suffix = 'Transform_data'"
   ]
  },
  {
   "cell_type": "code",
   "execution_count": 4,
   "metadata": {},
   "outputs": [],
   "source": [
    "## prediction window width, months:\n",
    "window = 1\n",
    "## prediction step, months: (time window offset)\n",
    "step = 1\n",
    "## buffer period, months:\n",
    "buffer_period = 1\n",
    "## back slices qty:\n",
    "n_slices = 10\n",
    "## minimum historу length, months\n",
    "history_min = 10"
   ]
  },
  {
   "cell_type": "markdown",
   "metadata": {},
   "source": [
    "### Load the data"
   ]
  },
  {
   "cell_type": "code",
   "execution_count": 5,
   "metadata": {},
   "outputs": [],
   "source": [
    "data = pd.read_csv('data/data_long_prep_add.csv', sep=';', \n",
    "                   parse_dates=['Timeline', \n",
    "                                'DateofTermination'],\n",
    "                  decimal='.')"
   ]
  },
  {
   "cell_type": "code",
   "execution_count": 6,
   "metadata": {},
   "outputs": [
    {
     "data": {
      "text/plain": [
       "(308303, 98)"
      ]
     },
     "execution_count": 6,
     "metadata": {},
     "output_type": "execute_result"
    }
   ],
   "source": [
    "data.shape"
   ]
  },
  {
   "cell_type": "code",
   "execution_count": 7,
   "metadata": {},
   "outputs": [],
   "source": [
    "# DOT = data.DateofTermination\n",
    "# print(np.min(DOT))\n",
    "# print(np.max(DOT))"
   ]
  },
  {
   "cell_type": "markdown",
   "metadata": {},
   "source": [
    "### Data preparation"
   ]
  },
  {
   "cell_type": "code",
   "execution_count": 8,
   "metadata": {},
   "outputs": [],
   "source": [
    "data['Projects'] = data['#ofProjects']\n",
    "data = data.drop('#ofProjects', axis=1)"
   ]
  },
  {
   "cell_type": "code",
   "execution_count": 9,
   "metadata": {},
   "outputs": [],
   "source": [
    "#for col in data.columns: print(col)"
   ]
  },
  {
   "cell_type": "code",
   "execution_count": 10,
   "metadata": {},
   "outputs": [],
   "source": [
    "## Numeric features list\n",
    "\n",
    "number_cols = [\n",
    "\n",
    "'Number of courses',\n",
    "'Training days',\n",
    "'English training',\n",
    "'English training days',\n",
    "'Projects',\n",
    "'SickLeave',\n",
    "'DurationOfSickLeaves',\n",
    "'Vacation',\n",
    "'DurationOfVacations',\n",
    "'pages_loaded',\n",
    "'likes',\n",
    "'comments',\n",
    "'posts',\n",
    "   \n",
    "]"
   ]
  },
  {
   "cell_type": "code",
   "execution_count": 11,
   "metadata": {},
   "outputs": [
    {
     "data": {
      "text/plain": [
       "Number of courses        float64\n",
       "Training days            float64\n",
       "English training         float64\n",
       "English training days    float64\n",
       "Projects                 float64\n",
       "SickLeave                float64\n",
       "DurationOfSickLeaves     float64\n",
       "Vacation                 float64\n",
       "DurationOfVacations      float64\n",
       "pages_loaded             float64\n",
       "likes                    float64\n",
       "comments                 float64\n",
       "posts                    float64\n",
       "dtype: object"
      ]
     },
     "execution_count": 11,
     "metadata": {},
     "output_type": "execute_result"
    }
   ],
   "source": [
    "data[number_cols].dtypes"
   ]
  },
  {
   "cell_type": "code",
   "execution_count": 12,
   "metadata": {},
   "outputs": [
    {
     "data": {
      "text/plain": [
       "No risk    87864\n",
       "Low        61973\n",
       "High       42794\n",
       "Medium     33270\n",
       "Avg        23992\n",
       "Unknown     1471\n",
       "Name: Risk, dtype: int64"
      ]
     },
     "execution_count": 12,
     "metadata": {},
     "output_type": "execute_result"
    }
   ],
   "source": [
    "data.Risk.value_counts()"
   ]
  },
  {
   "cell_type": "code",
   "execution_count": 13,
   "metadata": {},
   "outputs": [
    {
     "data": {
      "text/plain": [
       "0    146274\n",
       "1     61973\n",
       "2     57262\n",
       "3     42794\n",
       "Name: dRisk, dtype: int64"
      ]
     },
     "execution_count": 13,
     "metadata": {},
     "output_type": "execute_result"
    }
   ],
   "source": [
    "data.loc[:,'dRisk']=0\n",
    "index=(data.Risk=='Low')\n",
    "data.loc[index,'dRisk']=1\n",
    "index=(data.Risk=='Medium')|(data.Risk=='Avg')\n",
    "data.loc[index,'dRisk']=2\n",
    "index=(data.Risk=='High')\n",
    "data.loc[index,'dRisk']=3\n",
    "data.dRisk.value_counts()"
   ]
  },
  {
   "cell_type": "code",
   "execution_count": 14,
   "metadata": {},
   "outputs": [
    {
     "data": {
      "text/plain": [
       "High                         99032\n",
       "Medium                       63889\n",
       "Avg                          47340\n",
       "Low                          37798\n",
       "Candidate for termination     1888\n",
       "Name: Value, dtype: int64"
      ]
     },
     "execution_count": 14,
     "metadata": {},
     "output_type": "execute_result"
    }
   ],
   "source": [
    "data.Value.value_counts()"
   ]
  },
  {
   "cell_type": "code",
   "execution_count": 15,
   "metadata": {},
   "outputs": [
    {
     "data": {
      "text/plain": [
       "2    111229\n",
       "3     99032\n",
       "0     60244\n",
       "1     37798\n",
       "Name: dValue, dtype: int64"
      ]
     },
     "execution_count": 15,
     "metadata": {},
     "output_type": "execute_result"
    }
   ],
   "source": [
    "data.loc[:,'dValue']=0\n",
    "index=(data.Value=='Low')\n",
    "data.loc[index,'dValue']=1\n",
    "index=(data.Value=='Medium')|(data.Value=='Avg')\n",
    "data.loc[index,'dValue']=2\n",
    "index=(data.Value=='High')\n",
    "data.loc[index,'dValue']=3\n",
    "data.dValue.value_counts()"
   ]
  },
  {
   "cell_type": "code",
   "execution_count": 16,
   "metadata": {},
   "outputs": [],
   "source": [
    "number_cols.append('dRisk')\n",
    "number_cols.append('dValue')"
   ]
  },
  {
   "cell_type": "markdown",
   "metadata": {},
   "source": [
    "### Filters"
   ]
  },
  {
   "cell_type": "code",
   "execution_count": 17,
   "metadata": {},
   "outputs": [
    {
     "name": "stdout",
     "output_type": "stream",
     "text": [
      "(308303, 100)\n",
      "(205823, 100)\n"
     ]
    }
   ],
   "source": [
    "print(data.shape)\n",
    "#data = data[data.Experience >= history_min]\n",
    "data = data[~data.Risk.isnull()]\n",
    "data = data[~data.Value.isnull()]\n",
    "print(data.shape)"
   ]
  },
  {
   "cell_type": "markdown",
   "metadata": {},
   "source": [
    "### New structure formation"
   ]
  },
  {
   "cell_type": "code",
   "execution_count": 18,
   "metadata": {},
   "outputs": [],
   "source": [
    "tmp = data[['TL_number', 'Timeline', 'TerminatedOrResigned']].copy()\n",
    "#tmp.groupby(['TL_number', 'Timeline']).count()"
   ]
  },
  {
   "cell_type": "markdown",
   "metadata": {},
   "source": [
    "#### Remove a month with incomplete data"
   ]
  },
  {
   "cell_type": "code",
   "execution_count": 19,
   "metadata": {},
   "outputs": [
    {
     "name": "stdout",
     "output_type": "stream",
     "text": [
      "(205823, 100)\n",
      "(198384, 100)\n"
     ]
    }
   ],
   "source": [
    "print(data.shape)\n",
    "data = data[data.Timeline <= '2018-06-01']\n",
    "print(data.shape)"
   ]
  },
  {
   "cell_type": "code",
   "execution_count": 20,
   "metadata": {},
   "outputs": [
    {
     "data": {
      "text/plain": [
       "36"
      ]
     },
     "execution_count": 20,
     "metadata": {},
     "output_type": "execute_result"
    }
   ],
   "source": [
    "Timelines = data.Timeline\n",
    "Timelines = Timelines.drop_duplicates()\n",
    "Timelines = sorted(Timelines, reverse=True)\n",
    "TL = len(Timelines)  \n",
    "TL"
   ]
  },
  {
   "cell_type": "code",
   "execution_count": 21,
   "metadata": {},
   "outputs": [
    {
     "data": {
      "text/plain": [
       "Timestamp('2018-06-01 00:00:00')"
      ]
     },
     "execution_count": 21,
     "metadata": {},
     "output_type": "execute_result"
    }
   ],
   "source": [
    "Timelines[0]"
   ]
  },
  {
   "cell_type": "code",
   "execution_count": 22,
   "metadata": {},
   "outputs": [
    {
     "data": {
      "text/plain": [
       "Timestamp('2015-07-01 00:00:00')"
      ]
     },
     "execution_count": 22,
     "metadata": {},
     "output_type": "execute_result"
    }
   ],
   "source": [
    "Timelines[35]"
   ]
  },
  {
   "cell_type": "markdown",
   "metadata": {},
   "source": [
    "#### Missing values processing"
   ]
  },
  {
   "cell_type": "code",
   "execution_count": 23,
   "metadata": {},
   "outputs": [
    {
     "name": "stdout",
     "output_type": "stream",
     "text": [
      "'Number of courses',\n",
      "'Training days',\n",
      "'English training',\n",
      "'English training days',\n",
      "'pages_loaded',\n",
      "'likes',\n",
      "'comments',\n",
      "'posts',\n"
     ]
    }
   ],
   "source": [
    "for col in number_cols:\n",
    "    if np.sum(data[col].isnull())>0: \n",
    "        print(\"'\"+col+\"',\")"
   ]
  },
  {
   "cell_type": "code",
   "execution_count": 24,
   "metadata": {},
   "outputs": [],
   "source": [
    "nul_cols = [\n",
    "'Number of courses',\n",
    "'Training days',\n",
    "'English training',\n",
    "'English training days',\n",
    "]"
   ]
  },
  {
   "cell_type": "code",
   "execution_count": 25,
   "metadata": {},
   "outputs": [],
   "source": [
    "minus_one_cols = [\n",
    "'pages_loaded',\n",
    "'likes',\n",
    "'comments',\n",
    "'posts',\n",
    "]"
   ]
  },
  {
   "cell_type": "code",
   "execution_count": 26,
   "metadata": {},
   "outputs": [],
   "source": [
    "for col in nul_cols:\n",
    "    data.loc[:,col] = data.loc[:,col].fillna(0)\n",
    "\n",
    "for col in minus_one_cols:\n",
    "    data.loc[:,col] = data.loc[:,col].fillna(-1)"
   ]
  },
  {
   "cell_type": "code",
   "execution_count": 27,
   "metadata": {},
   "outputs": [
    {
     "data": {
      "text/plain": [
       "(198384, 100)"
      ]
     },
     "execution_count": 27,
     "metadata": {},
     "output_type": "execute_result"
    }
   ],
   "source": [
    "data.shape"
   ]
  },
  {
   "cell_type": "markdown",
   "metadata": {},
   "source": [
    "### Data transformation"
   ]
  },
  {
   "cell_type": "code",
   "execution_count": 28,
   "metadata": {},
   "outputs": [
    {
     "data": {
      "text/plain": [
       "['Number of courses',\n",
       " 'Training days',\n",
       " 'English training',\n",
       " 'English training days',\n",
       " 'Projects',\n",
       " 'SickLeave',\n",
       " 'DurationOfSickLeaves',\n",
       " 'Vacation',\n",
       " 'DurationOfVacations',\n",
       " 'pages_loaded',\n",
       " 'likes',\n",
       " 'comments',\n",
       " 'posts',\n",
       " 'dRisk',\n",
       " 'dValue',\n",
       " 'Timeline',\n",
       " 'PIN']"
      ]
     },
     "execution_count": 28,
     "metadata": {},
     "output_type": "execute_result"
    }
   ],
   "source": [
    "number_cols.append('Timeline')\n",
    "number_cols.append('PIN')\n",
    "number_cols"
   ]
  },
  {
   "cell_type": "code",
   "execution_count": 29,
   "metadata": {},
   "outputs": [],
   "source": [
    "tmp = data[number_cols].copy()          "
   ]
  },
  {
   "cell_type": "code",
   "execution_count": 30,
   "metadata": {},
   "outputs": [
    {
     "name": "stdout",
     "output_type": "stream",
     "text": [
      "(2975760, 5)\n",
      "Wall time: 28.9 s\n"
     ]
    }
   ],
   "source": [
    "%%time\n",
    "melt_data = pd.melt(tmp, id_vars=['PIN','Timeline'], \n",
    "                       value_name='value')\n",
    "melt_data['variables'] = melt_data.variable + '_' + melt_data.Timeline.astype(str)\n",
    "print(melt_data.shape)"
   ]
  },
  {
   "cell_type": "code",
   "execution_count": 31,
   "metadata": {},
   "outputs": [
    {
     "data": {
      "text/html": [
       "<div>\n",
       "<style scoped>\n",
       "    .dataframe tbody tr th:only-of-type {\n",
       "        vertical-align: middle;\n",
       "    }\n",
       "\n",
       "    .dataframe tbody tr th {\n",
       "        vertical-align: top;\n",
       "    }\n",
       "\n",
       "    .dataframe thead th {\n",
       "        text-align: right;\n",
       "    }\n",
       "</style>\n",
       "<table border=\"1\" class=\"dataframe\">\n",
       "  <thead>\n",
       "    <tr style=\"text-align: right;\">\n",
       "      <th></th>\n",
       "      <th>PIN</th>\n",
       "      <th>Timeline</th>\n",
       "      <th>variable</th>\n",
       "      <th>value</th>\n",
       "      <th>variables</th>\n",
       "    </tr>\n",
       "  </thead>\n",
       "  <tbody>\n",
       "    <tr>\n",
       "      <th>0</th>\n",
       "      <td>25</td>\n",
       "      <td>2015-07-01</td>\n",
       "      <td>Number of courses</td>\n",
       "      <td>0.0</td>\n",
       "      <td>Number of courses_2015-07-01</td>\n",
       "    </tr>\n",
       "    <tr>\n",
       "      <th>1</th>\n",
       "      <td>137</td>\n",
       "      <td>2015-07-01</td>\n",
       "      <td>Number of courses</td>\n",
       "      <td>0.0</td>\n",
       "      <td>Number of courses_2015-07-01</td>\n",
       "    </tr>\n",
       "    <tr>\n",
       "      <th>2</th>\n",
       "      <td>213</td>\n",
       "      <td>2015-07-01</td>\n",
       "      <td>Number of courses</td>\n",
       "      <td>0.0</td>\n",
       "      <td>Number of courses_2015-07-01</td>\n",
       "    </tr>\n",
       "    <tr>\n",
       "      <th>3</th>\n",
       "      <td>233</td>\n",
       "      <td>2015-07-01</td>\n",
       "      <td>Number of courses</td>\n",
       "      <td>0.0</td>\n",
       "      <td>Number of courses_2015-07-01</td>\n",
       "    </tr>\n",
       "    <tr>\n",
       "      <th>4</th>\n",
       "      <td>343</td>\n",
       "      <td>2015-07-01</td>\n",
       "      <td>Number of courses</td>\n",
       "      <td>0.0</td>\n",
       "      <td>Number of courses_2015-07-01</td>\n",
       "    </tr>\n",
       "  </tbody>\n",
       "</table>\n",
       "</div>"
      ],
      "text/plain": [
       "   PIN   Timeline           variable  value                     variables\n",
       "0   25 2015-07-01  Number of courses    0.0  Number of courses_2015-07-01\n",
       "1  137 2015-07-01  Number of courses    0.0  Number of courses_2015-07-01\n",
       "2  213 2015-07-01  Number of courses    0.0  Number of courses_2015-07-01\n",
       "3  233 2015-07-01  Number of courses    0.0  Number of courses_2015-07-01\n",
       "4  343 2015-07-01  Number of courses    0.0  Number of courses_2015-07-01"
      ]
     },
     "execution_count": 31,
     "metadata": {},
     "output_type": "execute_result"
    }
   ],
   "source": [
    "melt_data.head()"
   ]
  },
  {
   "cell_type": "code",
   "execution_count": 32,
   "metadata": {},
   "outputs": [
    {
     "name": "stdout",
     "output_type": "stream",
     "text": [
      "(10993, 541)\n",
      "Wall time: 2.13 s\n"
     ]
    }
   ],
   "source": [
    "%%time\n",
    "cast_data = melt_data.pivot(index='PIN', columns='variables', values='value')\n",
    "cast_data.reset_index(level=[0], inplace=True)\n",
    "print(cast_data.shape)"
   ]
  },
  {
   "cell_type": "code",
   "execution_count": 33,
   "metadata": {},
   "outputs": [
    {
     "data": {
      "text/html": [
       "<div>\n",
       "<style scoped>\n",
       "    .dataframe tbody tr th:only-of-type {\n",
       "        vertical-align: middle;\n",
       "    }\n",
       "\n",
       "    .dataframe tbody tr th {\n",
       "        vertical-align: top;\n",
       "    }\n",
       "\n",
       "    .dataframe thead th {\n",
       "        text-align: right;\n",
       "    }\n",
       "</style>\n",
       "<table border=\"1\" class=\"dataframe\">\n",
       "  <thead>\n",
       "    <tr style=\"text-align: right;\">\n",
       "      <th>variables</th>\n",
       "      <th>PIN</th>\n",
       "      <th>DurationOfSickLeaves_2015-07-01</th>\n",
       "      <th>DurationOfSickLeaves_2015-08-01</th>\n",
       "      <th>DurationOfSickLeaves_2015-09-01</th>\n",
       "    </tr>\n",
       "  </thead>\n",
       "  <tbody>\n",
       "    <tr>\n",
       "      <th>0</th>\n",
       "      <td>10</td>\n",
       "      <td>0.0</td>\n",
       "      <td>0.0</td>\n",
       "      <td>0.0</td>\n",
       "    </tr>\n",
       "    <tr>\n",
       "      <th>1</th>\n",
       "      <td>13</td>\n",
       "      <td>0.0</td>\n",
       "      <td>0.0</td>\n",
       "      <td>0.0</td>\n",
       "    </tr>\n",
       "    <tr>\n",
       "      <th>2</th>\n",
       "      <td>21</td>\n",
       "      <td>NaN</td>\n",
       "      <td>NaN</td>\n",
       "      <td>NaN</td>\n",
       "    </tr>\n",
       "    <tr>\n",
       "      <th>3</th>\n",
       "      <td>22</td>\n",
       "      <td>0.0</td>\n",
       "      <td>0.0</td>\n",
       "      <td>0.0</td>\n",
       "    </tr>\n",
       "    <tr>\n",
       "      <th>4</th>\n",
       "      <td>23</td>\n",
       "      <td>0.0</td>\n",
       "      <td>0.0</td>\n",
       "      <td>0.0</td>\n",
       "    </tr>\n",
       "  </tbody>\n",
       "</table>\n",
       "</div>"
      ],
      "text/plain": [
       "variables  PIN  DurationOfSickLeaves_2015-07-01  \\\n",
       "0           10                              0.0   \n",
       "1           13                              0.0   \n",
       "2           21                              NaN   \n",
       "3           22                              0.0   \n",
       "4           23                              0.0   \n",
       "\n",
       "variables  DurationOfSickLeaves_2015-08-01  DurationOfSickLeaves_2015-09-01  \n",
       "0                                      0.0                              0.0  \n",
       "1                                      0.0                              0.0  \n",
       "2                                      NaN                              NaN  \n",
       "3                                      0.0                              0.0  \n",
       "4                                      0.0                              0.0  "
      ]
     },
     "execution_count": 33,
     "metadata": {},
     "output_type": "execute_result"
    }
   ],
   "source": [
    "cast_data.iloc[:,:4].head()"
   ]
  },
  {
   "cell_type": "code",
   "execution_count": 34,
   "metadata": {},
   "outputs": [
    {
     "data": {
      "text/plain": [
       "['2018-06-01', '2018-05-01', '2018-04-01', '2018-03-01', '2018-02-01']"
      ]
     },
     "execution_count": 34,
     "metadata": {},
     "output_type": "execute_result"
    }
   ],
   "source": [
    "Timelines = np.unique(data.Timeline.astype(str))\n",
    "Timelines = list(Timelines)\n",
    "Timelines.reverse()\n",
    "Timelines[:5]"
   ]
  },
  {
   "cell_type": "code",
   "execution_count": 35,
   "metadata": {},
   "outputs": [],
   "source": [
    "#range(window-1, TL-(n_slices + buffer_period), step)"
   ]
  },
  {
   "cell_type": "code",
   "execution_count": 36,
   "metadata": {},
   "outputs": [
    {
     "name": "stdout",
     "output_type": "stream",
     "text": [
      "2018-06-01\n",
      "2018-05-01\n",
      "2018-04-01\n",
      "2018-03-01\n",
      "2018-02-01\n",
      "2018-01-01\n",
      "2017-12-01\n",
      "2017-11-01\n",
      "2017-10-01\n",
      "2017-09-01\n",
      "2017-08-01\n",
      "2017-07-01\n",
      "2017-06-01\n",
      "2017-05-01\n",
      "2017-04-01\n",
      "2017-03-01\n",
      "2017-02-01\n",
      "2017-01-01\n",
      "2016-12-01\n",
      "2016-11-01\n",
      "2016-10-01\n",
      "2016-09-01\n",
      "2016-08-01\n",
      "2016-07-01\n",
      "2016-06-01\n",
      "Wall time: 8 s\n"
     ]
    }
   ],
   "source": [
    "%%time\n",
    "df = pd.DataFrame()\n",
    "for i in range(window-1, TL-(n_slices + buffer_period), step):\n",
    "   \n",
    "    buffer_df = pd.DataFrame()\n",
    "    tl0 = Timelines[i]\n",
    "    print(tl0)\n",
    "    \n",
    "    for j in range(n_slices,0,-1): #for RNN need back order, oldest - first!!!\n",
    "        tl = '_' + Timelines[i + j + buffer_period]\n",
    "        suffix_ = '_' + str(j-1)\n",
    "        names = [c for c in cast_data.columns if c.endswith(tl)]\n",
    "        cast = cast_data[names]\n",
    "        col  = map(lambda x: x.replace(tl,suffix_), names)   \n",
    "        cast.columns = col\n",
    "        buffer_df = pd.concat((buffer_df,cast), axis=1)    \n",
    "    \n",
    "    buffer_df.loc[:,'Timeline'] = tl0\n",
    "    buffer_df.loc[:,'PIN'] = cast_data.PIN\n",
    "    buffer_df = buffer_df.fillna(0)\n",
    "    \n",
    "    df = df.append(buffer_df, ignore_index=True)"
   ]
  },
  {
   "cell_type": "code",
   "execution_count": 37,
   "metadata": {},
   "outputs": [],
   "source": [
    "number_cols.remove('PIN')\n",
    "number_cols.remove('Timeline')\n",
    "tmp = data.drop(number_cols, axis=1)"
   ]
  },
  {
   "cell_type": "code",
   "execution_count": 38,
   "metadata": {},
   "outputs": [],
   "source": [
    "selector = [\n",
    "'PIN',\n",
    "'Timeline',    \n",
    "'DateofTermination',\n",
    "# 'City',\n",
    "'Country',\n",
    "# 'Specialization',\n",
    "# 'Sex',\n",
    "'TerminatedOrResigned',\n",
    "# 'MonthsInCurrentPosition',\n",
    "'TL_number',\n",
    "]\n",
    "tmp = tmp[selector]"
   ]
  },
  {
   "cell_type": "markdown",
   "metadata": {},
   "source": [
    "#### Target creation"
   ]
  },
  {
   "cell_type": "code",
   "execution_count": 39,
   "metadata": {},
   "outputs": [
    {
     "data": {
      "text/plain": [
       "0    195650\n",
       "1      2734\n",
       "Name: target, dtype: int64"
      ]
     },
     "execution_count": 39,
     "metadata": {},
     "output_type": "execute_result"
    }
   ],
   "source": [
    "index = (tmp.TerminatedOrResigned==0)\n",
    "tmp.loc[:, 'target']=0\n",
    "tmp.loc[index, 'target']=1\n",
    "tmp.target.value_counts()"
   ]
  },
  {
   "cell_type": "code",
   "execution_count": 40,
   "metadata": {},
   "outputs": [],
   "source": [
    "df.Timeline = pd.to_datetime(df.Timeline)"
   ]
  },
  {
   "cell_type": "code",
   "execution_count": 41,
   "metadata": {},
   "outputs": [
    {
     "name": "stdout",
     "output_type": "stream",
     "text": [
      "(274825, 152)\n",
      "(156243, 157)\n"
     ]
    }
   ],
   "source": [
    "print(df.shape)\n",
    "df = pd.merge(left=tmp, right=df, how = 'inner', on=['PIN','Timeline'])\n",
    "print(df.shape)"
   ]
  },
  {
   "cell_type": "code",
   "execution_count": 42,
   "metadata": {},
   "outputs": [],
   "source": [
    "df = df.sort_values(by=['Timeline','PIN'], ascending=False)"
   ]
  },
  {
   "cell_type": "markdown",
   "metadata": {
    "collapsed": true
   },
   "source": [
    "#### Save to csv"
   ]
  },
  {
   "cell_type": "code",
   "execution_count": 43,
   "metadata": {},
   "outputs": [
    {
     "data": {
      "text/plain": [
       "0    154078\n",
       "1      2165\n",
       "Name: target, dtype: int64"
      ]
     },
     "execution_count": 43,
     "metadata": {},
     "output_type": "execute_result"
    }
   ],
   "source": [
    "df.target.value_counts()"
   ]
  },
  {
   "cell_type": "code",
   "execution_count": 44,
   "metadata": {},
   "outputs": [
    {
     "data": {
      "text/plain": [
       "Index(['PIN', 'Timeline', 'DateofTermination', 'Country',\n",
       "       'TerminatedOrResigned', 'TL_number', 'target', 'DurationOfSickLeaves_9',\n",
       "       'DurationOfVacations_9', 'English training days_9',\n",
       "       ...\n",
       "       'Projects_0', 'SickLeave_0', 'Training days_0', 'Vacation_0',\n",
       "       'comments_0', 'dRisk_0', 'dValue_0', 'likes_0', 'pages_loaded_0',\n",
       "       'posts_0'],\n",
       "      dtype='object', length=157)"
      ]
     },
     "execution_count": 44,
     "metadata": {},
     "output_type": "execute_result"
    }
   ],
   "source": [
    "df.columns"
   ]
  },
  {
   "cell_type": "code",
   "execution_count": 45,
   "metadata": {},
   "outputs": [
    {
     "name": "stdout",
     "output_type": "stream",
     "text": [
      "DateofTermination 154078\n",
      "TerminatedOrResigned 154078\n"
     ]
    }
   ],
   "source": [
    "## null check\n",
    "for col in df.columns:\n",
    "    if np.sum(df[col].isnull())>0: print(col, np.sum(df[col].isnull()))"
   ]
  },
  {
   "cell_type": "code",
   "execution_count": 46,
   "metadata": {},
   "outputs": [
    {
     "name": "stdout",
     "output_type": "stream",
     "text": [
      "data/Transform_data.csv\n"
     ]
    }
   ],
   "source": [
    "path = 'data/'+suffix+'.csv'\n",
    "print(path)\n",
    "df.to_csv(path, sep=';', index=False)"
   ]
  }
 ],
 "metadata": {
  "kernelspec": {
   "display_name": "Python 3",
   "language": "python",
   "name": "python3"
  },
  "language_info": {
   "codemirror_mode": {
    "name": "ipython",
    "version": 3
   },
   "file_extension": ".py",
   "mimetype": "text/x-python",
   "name": "python",
   "nbconvert_exporter": "python",
   "pygments_lexer": "ipython3",
   "version": "3.6.5"
  }
 },
 "nbformat": 4,
 "nbformat_minor": 2
}
