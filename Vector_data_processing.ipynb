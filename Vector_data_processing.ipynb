{
 "cells": [
  {
   "cell_type": "markdown",
   "metadata": {},
   "source": [
    "#  BackSlices Algorythm  \n",
    "## Data preprocessing and features generation"
   ]
  },
  {
   "cell_type": "code",
   "execution_count": 1,
   "metadata": {},
   "outputs": [],
   "source": [
    "import pandas as pd\n",
    "import numpy as np\n",
    "import matplotlib.pyplot as plt\n",
    "import datetime\n",
    "from monthdelta import monthdelta, monthmod\n",
    "\n",
    "from dateutil import relativedelta\n",
    "pd.set_option('display.max_columns', 150)"
   ]
  },
  {
   "cell_type": "code",
   "execution_count": 2,
   "metadata": {},
   "outputs": [],
   "source": [
    "import warnings\n",
    "warnings.filterwarnings('ignore')"
   ]
  },
  {
   "cell_type": "markdown",
   "metadata": {},
   "source": [
    "#### Transformation Parameters"
   ]
  },
  {
   "cell_type": "code",
   "execution_count": 3,
   "metadata": {},
   "outputs": [],
   "source": [
    "## output file suffix\n",
    "suffix = 'Transform_data'"
   ]
  },
  {
   "cell_type": "code",
   "execution_count": 4,
   "metadata": {},
   "outputs": [],
   "source": [
    "## prediction window width, months:\n",
    "window = 1\n",
    "## prediction step, months: (time window offset)\n",
    "step = 1\n",
    "## buffer period, months:\n",
    "buffer_period = 1\n",
    "## back slices qty:\n",
    "n_slices = 10\n",
    "## minimum historу length, months\n",
    "history_min = 5"
   ]
  },
  {
   "cell_type": "markdown",
   "metadata": {},
   "source": [
    "### Load the data"
   ]
  },
  {
   "cell_type": "code",
   "execution_count": 5,
   "metadata": {},
   "outputs": [],
   "source": [
    "data = pd.read_csv('data/data_long_prep_add.csv', sep=';', \n",
    "                   parse_dates=['Timeline', \n",
    "                                'DateofTermination'],\n",
    "                  decimal='.')"
   ]
  },
  {
   "cell_type": "code",
   "execution_count": 6,
   "metadata": {},
   "outputs": [
    {
     "data": {
      "text/plain": [
       "(308303, 98)"
      ]
     },
     "execution_count": 6,
     "metadata": {},
     "output_type": "execute_result"
    }
   ],
   "source": [
    "data.shape"
   ]
  },
  {
   "cell_type": "code",
   "execution_count": 7,
   "metadata": {},
   "outputs": [],
   "source": [
    "# DOT = data.DateofTermination\n",
    "# print(np.min(DOT))\n",
    "# print(np.max(DOT))"
   ]
  },
  {
   "cell_type": "markdown",
   "metadata": {},
   "source": [
    "### Data preparation"
   ]
  },
  {
   "cell_type": "code",
   "execution_count": 8,
   "metadata": {},
   "outputs": [],
   "source": [
    "data['Projects'] = data['#ofProjects']\n",
    "data = data.drop('#ofProjects', axis=1)"
   ]
  },
  {
   "cell_type": "code",
   "execution_count": 9,
   "metadata": {},
   "outputs": [],
   "source": [
    "## Numeric features list\n",
    "\n",
    "number_cols = [\n",
    "\n",
    "'Number of courses',\n",
    "'Training days',\n",
    "'English training',\n",
    "'English training days',\n",
    "'Projects',\n",
    "'SickLeave',\n",
    "'DurationOfSickLeaves',\n",
    "'Vacation',\n",
    "'DurationOfVacations',\n",
    "'pages_loaded',\n",
    "'likes',\n",
    "'comments',\n",
    "'posts',\n",
    "    \n",
    "]"
   ]
  },
  {
   "cell_type": "code",
   "execution_count": 10,
   "metadata": {},
   "outputs": [
    {
     "data": {
      "text/plain": [
       "Number of courses        float64\n",
       "Training days            float64\n",
       "English training         float64\n",
       "English training days    float64\n",
       "Projects                 float64\n",
       "SickLeave                float64\n",
       "DurationOfSickLeaves     float64\n",
       "Vacation                 float64\n",
       "DurationOfVacations      float64\n",
       "pages_loaded             float64\n",
       "likes                    float64\n",
       "comments                 float64\n",
       "posts                    float64\n",
       "dtype: object"
      ]
     },
     "execution_count": 10,
     "metadata": {},
     "output_type": "execute_result"
    }
   ],
   "source": [
    "data[number_cols].dtypes"
   ]
  },
  {
   "cell_type": "markdown",
   "metadata": {},
   "source": [
    "### Filters"
   ]
  },
  {
   "cell_type": "code",
   "execution_count": 11,
   "metadata": {},
   "outputs": [
    {
     "name": "stdout",
     "output_type": "stream",
     "text": [
      "(308303, 98)\n",
      "(267133, 98)\n"
     ]
    }
   ],
   "source": [
    "# print(data.shape)\n",
    "# data = data[data.History >= history_min]\n",
    "# print(data.shape)"
   ]
  },
  {
   "cell_type": "markdown",
   "metadata": {},
   "source": [
    "### New structure formation"
   ]
  },
  {
   "cell_type": "code",
   "execution_count": 12,
   "metadata": {},
   "outputs": [
    {
     "data": {
      "text/html": [
       "<div>\n",
       "<style scoped>\n",
       "    .dataframe tbody tr th:only-of-type {\n",
       "        vertical-align: middle;\n",
       "    }\n",
       "\n",
       "    .dataframe tbody tr th {\n",
       "        vertical-align: top;\n",
       "    }\n",
       "\n",
       "    .dataframe thead th {\n",
       "        text-align: right;\n",
       "    }\n",
       "</style>\n",
       "<table border=\"1\" class=\"dataframe\">\n",
       "  <thead>\n",
       "    <tr style=\"text-align: right;\">\n",
       "      <th></th>\n",
       "      <th></th>\n",
       "      <th>TerminatedOrResigned</th>\n",
       "    </tr>\n",
       "    <tr>\n",
       "      <th>TL_number</th>\n",
       "      <th>Timeline</th>\n",
       "      <th></th>\n",
       "    </tr>\n",
       "  </thead>\n",
       "  <tbody>\n",
       "    <tr>\n",
       "      <th>0.0</th>\n",
       "      <th>2015-07-01</th>\n",
       "      <td>52</td>\n",
       "    </tr>\n",
       "    <tr>\n",
       "      <th>1.0</th>\n",
       "      <th>2015-08-01</th>\n",
       "      <td>56</td>\n",
       "    </tr>\n",
       "    <tr>\n",
       "      <th>2.0</th>\n",
       "      <th>2015-09-01</th>\n",
       "      <td>48</td>\n",
       "    </tr>\n",
       "    <tr>\n",
       "      <th>3.0</th>\n",
       "      <th>2015-10-01</th>\n",
       "      <td>64</td>\n",
       "    </tr>\n",
       "    <tr>\n",
       "      <th>4.0</th>\n",
       "      <th>2015-11-01</th>\n",
       "      <td>88</td>\n",
       "    </tr>\n",
       "    <tr>\n",
       "      <th>5.0</th>\n",
       "      <th>2015-12-01</th>\n",
       "      <td>88</td>\n",
       "    </tr>\n",
       "    <tr>\n",
       "      <th>6.0</th>\n",
       "      <th>2016-01-01</th>\n",
       "      <td>60</td>\n",
       "    </tr>\n",
       "    <tr>\n",
       "      <th>7.0</th>\n",
       "      <th>2016-02-01</th>\n",
       "      <td>83</td>\n",
       "    </tr>\n",
       "    <tr>\n",
       "      <th>8.0</th>\n",
       "      <th>2016-03-01</th>\n",
       "      <td>98</td>\n",
       "    </tr>\n",
       "    <tr>\n",
       "      <th>9.0</th>\n",
       "      <th>2016-04-01</th>\n",
       "      <td>114</td>\n",
       "    </tr>\n",
       "    <tr>\n",
       "      <th>10.0</th>\n",
       "      <th>2016-05-01</th>\n",
       "      <td>104</td>\n",
       "    </tr>\n",
       "    <tr>\n",
       "      <th>11.0</th>\n",
       "      <th>2016-06-01</th>\n",
       "      <td>103</td>\n",
       "    </tr>\n",
       "    <tr>\n",
       "      <th>12.0</th>\n",
       "      <th>2016-07-01</th>\n",
       "      <td>118</td>\n",
       "    </tr>\n",
       "    <tr>\n",
       "      <th>13.0</th>\n",
       "      <th>2016-08-01</th>\n",
       "      <td>139</td>\n",
       "    </tr>\n",
       "    <tr>\n",
       "      <th>14.0</th>\n",
       "      <th>2016-09-01</th>\n",
       "      <td>153</td>\n",
       "    </tr>\n",
       "    <tr>\n",
       "      <th>15.0</th>\n",
       "      <th>2016-10-01</th>\n",
       "      <td>126</td>\n",
       "    </tr>\n",
       "    <tr>\n",
       "      <th>16.0</th>\n",
       "      <th>2016-11-01</th>\n",
       "      <td>123</td>\n",
       "    </tr>\n",
       "    <tr>\n",
       "      <th>17.0</th>\n",
       "      <th>2016-12-01</th>\n",
       "      <td>124</td>\n",
       "    </tr>\n",
       "    <tr>\n",
       "      <th>18.0</th>\n",
       "      <th>2017-01-01</th>\n",
       "      <td>113</td>\n",
       "    </tr>\n",
       "    <tr>\n",
       "      <th>19.0</th>\n",
       "      <th>2017-02-01</th>\n",
       "      <td>112</td>\n",
       "    </tr>\n",
       "    <tr>\n",
       "      <th>20.0</th>\n",
       "      <th>2017-03-01</th>\n",
       "      <td>142</td>\n",
       "    </tr>\n",
       "    <tr>\n",
       "      <th>21.0</th>\n",
       "      <th>2017-04-01</th>\n",
       "      <td>152</td>\n",
       "    </tr>\n",
       "    <tr>\n",
       "      <th>22.0</th>\n",
       "      <th>2017-05-01</th>\n",
       "      <td>158</td>\n",
       "    </tr>\n",
       "    <tr>\n",
       "      <th>23.0</th>\n",
       "      <th>2017-06-01</th>\n",
       "      <td>171</td>\n",
       "    </tr>\n",
       "    <tr>\n",
       "      <th>24.0</th>\n",
       "      <th>2017-07-01</th>\n",
       "      <td>162</td>\n",
       "    </tr>\n",
       "    <tr>\n",
       "      <th>25.0</th>\n",
       "      <th>2017-08-01</th>\n",
       "      <td>183</td>\n",
       "    </tr>\n",
       "    <tr>\n",
       "      <th>26.0</th>\n",
       "      <th>2017-09-01</th>\n",
       "      <td>190</td>\n",
       "    </tr>\n",
       "    <tr>\n",
       "      <th>27.0</th>\n",
       "      <th>2017-10-01</th>\n",
       "      <td>177</td>\n",
       "    </tr>\n",
       "    <tr>\n",
       "      <th>28.0</th>\n",
       "      <th>2017-11-01</th>\n",
       "      <td>193</td>\n",
       "    </tr>\n",
       "    <tr>\n",
       "      <th>29.0</th>\n",
       "      <th>2017-12-01</th>\n",
       "      <td>162</td>\n",
       "    </tr>\n",
       "    <tr>\n",
       "      <th>30.0</th>\n",
       "      <th>2018-01-01</th>\n",
       "      <td>138</td>\n",
       "    </tr>\n",
       "    <tr>\n",
       "      <th>31.0</th>\n",
       "      <th>2018-02-01</th>\n",
       "      <td>165</td>\n",
       "    </tr>\n",
       "    <tr>\n",
       "      <th>32.0</th>\n",
       "      <th>2018-03-01</th>\n",
       "      <td>182</td>\n",
       "    </tr>\n",
       "    <tr>\n",
       "      <th>33.0</th>\n",
       "      <th>2018-04-01</th>\n",
       "      <td>180</td>\n",
       "    </tr>\n",
       "    <tr>\n",
       "      <th>34.0</th>\n",
       "      <th>2018-05-01</th>\n",
       "      <td>145</td>\n",
       "    </tr>\n",
       "    <tr>\n",
       "      <th>35.0</th>\n",
       "      <th>2018-06-01</th>\n",
       "      <td>184</td>\n",
       "    </tr>\n",
       "    <tr>\n",
       "      <th>36.0</th>\n",
       "      <th>2018-07-01</th>\n",
       "      <td>14</td>\n",
       "    </tr>\n",
       "  </tbody>\n",
       "</table>\n",
       "</div>"
      ],
      "text/plain": [
       "                      TerminatedOrResigned\n",
       "TL_number Timeline                        \n",
       "0.0       2015-07-01                    52\n",
       "1.0       2015-08-01                    56\n",
       "2.0       2015-09-01                    48\n",
       "3.0       2015-10-01                    64\n",
       "4.0       2015-11-01                    88\n",
       "5.0       2015-12-01                    88\n",
       "6.0       2016-01-01                    60\n",
       "7.0       2016-02-01                    83\n",
       "8.0       2016-03-01                    98\n",
       "9.0       2016-04-01                   114\n",
       "10.0      2016-05-01                   104\n",
       "11.0      2016-06-01                   103\n",
       "12.0      2016-07-01                   118\n",
       "13.0      2016-08-01                   139\n",
       "14.0      2016-09-01                   153\n",
       "15.0      2016-10-01                   126\n",
       "16.0      2016-11-01                   123\n",
       "17.0      2016-12-01                   124\n",
       "18.0      2017-01-01                   113\n",
       "19.0      2017-02-01                   112\n",
       "20.0      2017-03-01                   142\n",
       "21.0      2017-04-01                   152\n",
       "22.0      2017-05-01                   158\n",
       "23.0      2017-06-01                   171\n",
       "24.0      2017-07-01                   162\n",
       "25.0      2017-08-01                   183\n",
       "26.0      2017-09-01                   190\n",
       "27.0      2017-10-01                   177\n",
       "28.0      2017-11-01                   193\n",
       "29.0      2017-12-01                   162\n",
       "30.0      2018-01-01                   138\n",
       "31.0      2018-02-01                   165\n",
       "32.0      2018-03-01                   182\n",
       "33.0      2018-04-01                   180\n",
       "34.0      2018-05-01                   145\n",
       "35.0      2018-06-01                   184\n",
       "36.0      2018-07-01                    14"
      ]
     },
     "execution_count": 12,
     "metadata": {},
     "output_type": "execute_result"
    }
   ],
   "source": [
    "tmp = data[['TL_number', 'Timeline', 'TerminatedOrResigned']].copy()\n",
    "tmp.groupby(['TL_number', 'Timeline']).count()"
   ]
  },
  {
   "cell_type": "markdown",
   "metadata": {},
   "source": [
    "#### Remove a month with incomplete data"
   ]
  },
  {
   "cell_type": "code",
   "execution_count": 13,
   "metadata": {},
   "outputs": [
    {
     "name": "stdout",
     "output_type": "stream",
     "text": [
      "(267133, 98)\n",
      "(258289, 98)\n"
     ]
    }
   ],
   "source": [
    "print(data.shape)\n",
    "data = data[data.Timeline <= '2018-06-01']\n",
    "print(data.shape)"
   ]
  },
  {
   "cell_type": "code",
   "execution_count": 14,
   "metadata": {},
   "outputs": [
    {
     "data": {
      "text/plain": [
       "36"
      ]
     },
     "execution_count": 14,
     "metadata": {},
     "output_type": "execute_result"
    }
   ],
   "source": [
    "Timelines = data.Timeline\n",
    "Timelines = Timelines.drop_duplicates()\n",
    "Timelines = sorted(Timelines, reverse=True)\n",
    "TL = len(Timelines)  \n",
    "TL"
   ]
  },
  {
   "cell_type": "code",
   "execution_count": 15,
   "metadata": {},
   "outputs": [
    {
     "data": {
      "text/plain": [
       "Timestamp('2018-06-01 00:00:00')"
      ]
     },
     "execution_count": 15,
     "metadata": {},
     "output_type": "execute_result"
    }
   ],
   "source": [
    "Timelines[0]"
   ]
  },
  {
   "cell_type": "code",
   "execution_count": 16,
   "metadata": {},
   "outputs": [
    {
     "data": {
      "text/plain": [
       "Timestamp('2015-07-01 00:00:00')"
      ]
     },
     "execution_count": 16,
     "metadata": {},
     "output_type": "execute_result"
    }
   ],
   "source": [
    "Timelines[35]"
   ]
  },
  {
   "cell_type": "markdown",
   "metadata": {},
   "source": [
    "#### Missing values processing"
   ]
  },
  {
   "cell_type": "code",
   "execution_count": 17,
   "metadata": {},
   "outputs": [
    {
     "name": "stdout",
     "output_type": "stream",
     "text": [
      "'Number of courses',\n",
      "'Training days',\n",
      "'English training',\n",
      "'English training days',\n",
      "'pages_loaded',\n",
      "'likes',\n",
      "'comments',\n",
      "'posts',\n"
     ]
    }
   ],
   "source": [
    "for col in number_cols:\n",
    "    if np.sum(data[col].isnull())>0: \n",
    "        print(\"'\"+col+\"',\")"
   ]
  },
  {
   "cell_type": "code",
   "execution_count": 18,
   "metadata": {},
   "outputs": [],
   "source": [
    "nul_cols = [\n",
    "'Number of courses',\n",
    "'Training days',\n",
    "'English training',\n",
    "'English training days',\n",
    "]"
   ]
  },
  {
   "cell_type": "code",
   "execution_count": 19,
   "metadata": {},
   "outputs": [],
   "source": [
    "minus_one_cols = [\n",
    "'pages_loaded',\n",
    "'likes',\n",
    "'comments',\n",
    "'posts',\n",
    "]"
   ]
  },
  {
   "cell_type": "code",
   "execution_count": 20,
   "metadata": {},
   "outputs": [],
   "source": [
    "for col in nul_cols:\n",
    "    data.loc[:,col] = data.loc[:,col].fillna(0)\n",
    "\n",
    "for col in minus_one_cols:\n",
    "    data.loc[:,col] = data.loc[:,col].fillna(-1)"
   ]
  },
  {
   "cell_type": "code",
   "execution_count": 21,
   "metadata": {},
   "outputs": [
    {
     "data": {
      "text/plain": [
       "(258289, 98)"
      ]
     },
     "execution_count": 21,
     "metadata": {},
     "output_type": "execute_result"
    }
   ],
   "source": [
    "data.shape"
   ]
  },
  {
   "cell_type": "markdown",
   "metadata": {},
   "source": [
    "### Data transformation"
   ]
  },
  {
   "cell_type": "code",
   "execution_count": 22,
   "metadata": {},
   "outputs": [
    {
     "data": {
      "text/plain": [
       "['Number of courses',\n",
       " 'Training days',\n",
       " 'English training',\n",
       " 'English training days',\n",
       " 'Projects',\n",
       " 'SickLeave',\n",
       " 'DurationOfSickLeaves',\n",
       " 'Vacation',\n",
       " 'DurationOfVacations',\n",
       " 'pages_loaded',\n",
       " 'likes',\n",
       " 'comments',\n",
       " 'posts',\n",
       " 'Timeline',\n",
       " 'PIN']"
      ]
     },
     "execution_count": 22,
     "metadata": {},
     "output_type": "execute_result"
    }
   ],
   "source": [
    "number_cols.append('Timeline')\n",
    "number_cols.append('PIN')\n",
    "number_cols"
   ]
  },
  {
   "cell_type": "code",
   "execution_count": 23,
   "metadata": {},
   "outputs": [],
   "source": [
    "tmp = data[number_cols].copy()          "
   ]
  },
  {
   "cell_type": "code",
   "execution_count": 24,
   "metadata": {},
   "outputs": [
    {
     "name": "stdout",
     "output_type": "stream",
     "text": [
      "(3357757, 5)\n",
      "Wall time: 38.2 s\n"
     ]
    }
   ],
   "source": [
    "%%time\n",
    "melt_data = pd.melt(tmp, id_vars=['PIN','Timeline'], \n",
    "                       value_name='value')\n",
    "melt_data['variables'] = melt_data.variable + '_' + melt_data.Timeline.astype(str)\n",
    "print(melt_data.shape)"
   ]
  },
  {
   "cell_type": "code",
   "execution_count": 25,
   "metadata": {},
   "outputs": [
    {
     "data": {
      "text/html": [
       "<div>\n",
       "<style scoped>\n",
       "    .dataframe tbody tr th:only-of-type {\n",
       "        vertical-align: middle;\n",
       "    }\n",
       "\n",
       "    .dataframe tbody tr th {\n",
       "        vertical-align: top;\n",
       "    }\n",
       "\n",
       "    .dataframe thead th {\n",
       "        text-align: right;\n",
       "    }\n",
       "</style>\n",
       "<table border=\"1\" class=\"dataframe\">\n",
       "  <thead>\n",
       "    <tr style=\"text-align: right;\">\n",
       "      <th></th>\n",
       "      <th>PIN</th>\n",
       "      <th>Timeline</th>\n",
       "      <th>variable</th>\n",
       "      <th>value</th>\n",
       "      <th>variables</th>\n",
       "    </tr>\n",
       "  </thead>\n",
       "  <tbody>\n",
       "    <tr>\n",
       "      <th>0</th>\n",
       "      <td>25</td>\n",
       "      <td>2015-07-01</td>\n",
       "      <td>Number of courses</td>\n",
       "      <td>0.0</td>\n",
       "      <td>Number of courses_2015-07-01</td>\n",
       "    </tr>\n",
       "    <tr>\n",
       "      <th>1</th>\n",
       "      <td>137</td>\n",
       "      <td>2015-07-01</td>\n",
       "      <td>Number of courses</td>\n",
       "      <td>0.0</td>\n",
       "      <td>Number of courses_2015-07-01</td>\n",
       "    </tr>\n",
       "    <tr>\n",
       "      <th>2</th>\n",
       "      <td>213</td>\n",
       "      <td>2015-07-01</td>\n",
       "      <td>Number of courses</td>\n",
       "      <td>0.0</td>\n",
       "      <td>Number of courses_2015-07-01</td>\n",
       "    </tr>\n",
       "    <tr>\n",
       "      <th>3</th>\n",
       "      <td>233</td>\n",
       "      <td>2015-07-01</td>\n",
       "      <td>Number of courses</td>\n",
       "      <td>0.0</td>\n",
       "      <td>Number of courses_2015-07-01</td>\n",
       "    </tr>\n",
       "    <tr>\n",
       "      <th>4</th>\n",
       "      <td>343</td>\n",
       "      <td>2015-07-01</td>\n",
       "      <td>Number of courses</td>\n",
       "      <td>0.0</td>\n",
       "      <td>Number of courses_2015-07-01</td>\n",
       "    </tr>\n",
       "  </tbody>\n",
       "</table>\n",
       "</div>"
      ],
      "text/plain": [
       "   PIN   Timeline           variable  value                     variables\n",
       "0   25 2015-07-01  Number of courses    0.0  Number of courses_2015-07-01\n",
       "1  137 2015-07-01  Number of courses    0.0  Number of courses_2015-07-01\n",
       "2  213 2015-07-01  Number of courses    0.0  Number of courses_2015-07-01\n",
       "3  233 2015-07-01  Number of courses    0.0  Number of courses_2015-07-01\n",
       "4  343 2015-07-01  Number of courses    0.0  Number of courses_2015-07-01"
      ]
     },
     "execution_count": 25,
     "metadata": {},
     "output_type": "execute_result"
    }
   ],
   "source": [
    "melt_data.head()"
   ]
  },
  {
   "cell_type": "code",
   "execution_count": 26,
   "metadata": {},
   "outputs": [
    {
     "name": "stdout",
     "output_type": "stream",
     "text": [
      "(13688, 469)\n",
      "Wall time: 2.69 s\n"
     ]
    }
   ],
   "source": [
    "%%time\n",
    "cast_data = melt_data.pivot(index='PIN', columns='variables', values='value')\n",
    "cast_data.reset_index(level=[0], inplace=True)\n",
    "print(cast_data.shape)"
   ]
  },
  {
   "cell_type": "code",
   "execution_count": 27,
   "metadata": {},
   "outputs": [
    {
     "data": {
      "text/html": [
       "<div>\n",
       "<style scoped>\n",
       "    .dataframe tbody tr th:only-of-type {\n",
       "        vertical-align: middle;\n",
       "    }\n",
       "\n",
       "    .dataframe tbody tr th {\n",
       "        vertical-align: top;\n",
       "    }\n",
       "\n",
       "    .dataframe thead th {\n",
       "        text-align: right;\n",
       "    }\n",
       "</style>\n",
       "<table border=\"1\" class=\"dataframe\">\n",
       "  <thead>\n",
       "    <tr style=\"text-align: right;\">\n",
       "      <th>variables</th>\n",
       "      <th>PIN</th>\n",
       "      <th>DurationOfSickLeaves_2015-07-01</th>\n",
       "      <th>DurationOfSickLeaves_2015-08-01</th>\n",
       "      <th>DurationOfSickLeaves_2015-09-01</th>\n",
       "    </tr>\n",
       "  </thead>\n",
       "  <tbody>\n",
       "    <tr>\n",
       "      <th>0</th>\n",
       "      <td>10</td>\n",
       "      <td>0.0</td>\n",
       "      <td>0.0</td>\n",
       "      <td>0.0</td>\n",
       "    </tr>\n",
       "    <tr>\n",
       "      <th>1</th>\n",
       "      <td>13</td>\n",
       "      <td>0.0</td>\n",
       "      <td>0.0</td>\n",
       "      <td>0.0</td>\n",
       "    </tr>\n",
       "    <tr>\n",
       "      <th>2</th>\n",
       "      <td>21</td>\n",
       "      <td>0.0</td>\n",
       "      <td>0.0</td>\n",
       "      <td>0.0</td>\n",
       "    </tr>\n",
       "    <tr>\n",
       "      <th>3</th>\n",
       "      <td>22</td>\n",
       "      <td>0.0</td>\n",
       "      <td>0.0</td>\n",
       "      <td>0.0</td>\n",
       "    </tr>\n",
       "    <tr>\n",
       "      <th>4</th>\n",
       "      <td>23</td>\n",
       "      <td>0.0</td>\n",
       "      <td>0.0</td>\n",
       "      <td>0.0</td>\n",
       "    </tr>\n",
       "  </tbody>\n",
       "</table>\n",
       "</div>"
      ],
      "text/plain": [
       "variables  PIN  DurationOfSickLeaves_2015-07-01  \\\n",
       "0           10                              0.0   \n",
       "1           13                              0.0   \n",
       "2           21                              0.0   \n",
       "3           22                              0.0   \n",
       "4           23                              0.0   \n",
       "\n",
       "variables  DurationOfSickLeaves_2015-08-01  DurationOfSickLeaves_2015-09-01  \n",
       "0                                      0.0                              0.0  \n",
       "1                                      0.0                              0.0  \n",
       "2                                      0.0                              0.0  \n",
       "3                                      0.0                              0.0  \n",
       "4                                      0.0                              0.0  "
      ]
     },
     "execution_count": 27,
     "metadata": {},
     "output_type": "execute_result"
    }
   ],
   "source": [
    "cast_data.iloc[:,:4].head()"
   ]
  },
  {
   "cell_type": "code",
   "execution_count": 28,
   "metadata": {},
   "outputs": [
    {
     "data": {
      "text/plain": [
       "['2018-06-01', '2018-05-01', '2018-04-01', '2018-03-01', '2018-02-01']"
      ]
     },
     "execution_count": 28,
     "metadata": {},
     "output_type": "execute_result"
    }
   ],
   "source": [
    "Timelines = np.unique(data.Timeline.astype(str))\n",
    "Timelines = list(Timelines)\n",
    "Timelines.reverse()\n",
    "Timelines[:5]"
   ]
  },
  {
   "cell_type": "code",
   "execution_count": 29,
   "metadata": {},
   "outputs": [
    {
     "data": {
      "text/plain": [
       "range(0, 25)"
      ]
     },
     "execution_count": 29,
     "metadata": {},
     "output_type": "execute_result"
    }
   ],
   "source": [
    "range(window-1, TL-(n_slices + buffer_period), step)"
   ]
  },
  {
   "cell_type": "code",
   "execution_count": 30,
   "metadata": {},
   "outputs": [
    {
     "name": "stdout",
     "output_type": "stream",
     "text": [
      "2018-06-01\n",
      "2018-05-01\n",
      "2018-04-01\n",
      "2018-03-01\n",
      "2018-02-01\n",
      "2018-01-01\n",
      "2017-12-01\n",
      "2017-11-01\n",
      "2017-10-01\n",
      "2017-09-01\n",
      "2017-08-01\n",
      "2017-07-01\n",
      "2017-06-01\n",
      "2017-05-01\n",
      "2017-04-01\n",
      "2017-03-01\n",
      "2017-02-01\n",
      "2017-01-01\n",
      "2016-12-01\n",
      "2016-11-01\n",
      "2016-10-01\n",
      "2016-09-01\n",
      "2016-08-01\n",
      "2016-07-01\n",
      "2016-06-01\n",
      "Wall time: 8.66 s\n"
     ]
    }
   ],
   "source": [
    "%%time\n",
    "df = pd.DataFrame()\n",
    "for i in range(window-1, TL-(n_slices + buffer_period), step):\n",
    "   \n",
    "    buffer_df = pd.DataFrame()\n",
    "    tl0 = Timelines[i]\n",
    "    print(tl0)\n",
    "    \n",
    "    for j in range(1,n_slices+1):\n",
    "        tl = '_' + Timelines[i + j + buffer_period]\n",
    "        suffix_ = '_' + str(j-1)\n",
    "        names = [c for c in cast_data.columns if c.endswith(tl)]\n",
    "        cast = cast_data[names]\n",
    "        col  = map(lambda x: x.replace(tl,suffix_), names)   \n",
    "        cast.columns = col\n",
    "        buffer_df = pd.concat((buffer_df,cast), axis=1)    \n",
    "    \n",
    "    buffer_df.loc[:,'Timeline'] = tl0\n",
    "    buffer_df.loc[:,'PIN'] = cast_data.PIN\n",
    "    buffer_df = buffer_df.fillna(0)\n",
    "    \n",
    "    df = df.append(buffer_df, ignore_index=True)"
   ]
  },
  {
   "cell_type": "code",
   "execution_count": 31,
   "metadata": {},
   "outputs": [],
   "source": [
    "number_cols.remove('PIN')\n",
    "number_cols.remove('Timeline')\n",
    "tmp = data.drop(number_cols, axis=1)"
   ]
  },
  {
   "cell_type": "code",
   "execution_count": 32,
   "metadata": {},
   "outputs": [],
   "source": [
    "selector = [\n",
    "'PIN',\n",
    "'Timeline',    \n",
    "'DateofTermination',\n",
    "'City',\n",
    "'Country',\n",
    "'Specialization',\n",
    "'Sex',\n",
    "'TerminatedOrResigned',\n",
    "'MonthsInCurrentPosition',\n",
    "'TL_number',\n",
    "]\n",
    "tmp = tmp[selector]"
   ]
  },
  {
   "cell_type": "markdown",
   "metadata": {},
   "source": [
    "#### Target creation"
   ]
  },
  {
   "cell_type": "code",
   "execution_count": 33,
   "metadata": {},
   "outputs": [
    {
     "data": {
      "text/plain": [
       "0    253639\n",
       "1      4650\n",
       "Name: target, dtype: int64"
      ]
     },
     "execution_count": 33,
     "metadata": {},
     "output_type": "execute_result"
    }
   ],
   "source": [
    "index = (tmp.TerminatedOrResigned==0)\n",
    "tmp.loc[:, 'target']=0\n",
    "tmp.loc[index, 'target']=1\n",
    "tmp.target.value_counts()"
   ]
  },
  {
   "cell_type": "code",
   "execution_count": 34,
   "metadata": {},
   "outputs": [],
   "source": [
    "df.Timeline = pd.to_datetime(df.Timeline)"
   ]
  },
  {
   "cell_type": "code",
   "execution_count": 35,
   "metadata": {},
   "outputs": [
    {
     "name": "stdout",
     "output_type": "stream",
     "text": [
      "(342200, 132)\n",
      "(196785, 141)\n"
     ]
    }
   ],
   "source": [
    "print(df.shape)\n",
    "df = pd.merge(left=tmp, right=df, how = 'inner', on=['PIN','Timeline'])\n",
    "print(df.shape)"
   ]
  },
  {
   "cell_type": "code",
   "execution_count": 36,
   "metadata": {},
   "outputs": [],
   "source": [
    "df = df.sort_values(by=['Timeline','PIN'], ascending=False)"
   ]
  },
  {
   "cell_type": "markdown",
   "metadata": {
    "collapsed": true
   },
   "source": [
    "#### Save to csv"
   ]
  },
  {
   "cell_type": "code",
   "execution_count": 37,
   "metadata": {},
   "outputs": [
    {
     "data": {
      "text/plain": [
       "0    192990\n",
       "1      3795\n",
       "Name: target, dtype: int64"
      ]
     },
     "execution_count": 37,
     "metadata": {},
     "output_type": "execute_result"
    }
   ],
   "source": [
    "df.target.value_counts()"
   ]
  },
  {
   "cell_type": "code",
   "execution_count": 38,
   "metadata": {},
   "outputs": [
    {
     "data": {
      "text/plain": [
       "Index(['PIN', 'Timeline', 'DateofTermination', 'City', 'Country',\n",
       "       'Specialization', 'Sex', 'TerminatedOrResigned',\n",
       "       'MonthsInCurrentPosition', 'TL_number',\n",
       "       ...\n",
       "       'English training_9', 'Number of courses_9', 'Projects_9',\n",
       "       'SickLeave_9', 'Training days_9', 'Vacation_9', 'comments_9', 'likes_9',\n",
       "       'pages_loaded_9', 'posts_9'],\n",
       "      dtype='object', length=141)"
      ]
     },
     "execution_count": 38,
     "metadata": {},
     "output_type": "execute_result"
    }
   ],
   "source": [
    "df.columns"
   ]
  },
  {
   "cell_type": "code",
   "execution_count": 39,
   "metadata": {},
   "outputs": [
    {
     "name": "stdout",
     "output_type": "stream",
     "text": [
      "DateofTermination 192990\n",
      "TerminatedOrResigned 192990\n"
     ]
    }
   ],
   "source": [
    "## null check\n",
    "for col in df.columns:\n",
    "    if np.sum(df[col].isnull())>0: print(col, np.sum(df[col].isnull()))"
   ]
  },
  {
   "cell_type": "code",
   "execution_count": 40,
   "metadata": {},
   "outputs": [
    {
     "name": "stdout",
     "output_type": "stream",
     "text": [
      "data/data_Transform_data.csv\n"
     ]
    }
   ],
   "source": [
    "path = 'data/data_'+suffix+'.csv'\n",
    "print(path)\n",
    "df.to_csv(path, sep=';', index=False)"
   ]
  }
 ],
 "metadata": {
  "kernelspec": {
   "display_name": "Python 3",
   "language": "python",
   "name": "python3"
  },
  "language_info": {
   "codemirror_mode": {
    "name": "ipython",
    "version": 3
   },
   "file_extension": ".py",
   "mimetype": "text/x-python",
   "name": "python",
   "nbconvert_exporter": "python",
   "pygments_lexer": "ipython3",
   "version": "3.6.5"
  }
 },
 "nbformat": 4,
 "nbformat_minor": 2
}
