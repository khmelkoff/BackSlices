{
 "cells": [
  {
   "cell_type": "markdown",
   "metadata": {},
   "source": [
    "### LSTM BackSlices model"
   ]
  },
  {
   "cell_type": "code",
   "execution_count": 25,
   "metadata": {},
   "outputs": [],
   "source": [
    "## output file suffix\n",
    "suffix = 'common_rnn'"
   ]
  },
  {
   "cell_type": "code",
   "execution_count": 26,
   "metadata": {},
   "outputs": [],
   "source": [
    "import pandas as pd\n",
    "import numpy as np\n",
    "\n",
    "from sklearn.preprocessing import LabelEncoder, OneHotEncoder\n",
    "from sklearn.metrics import roc_auc_score, classification_report\n",
    "from sklearn import metrics, tree\n",
    "from sklearn import preprocessing, ensemble"
   ]
  },
  {
   "cell_type": "code",
   "execution_count": 27,
   "metadata": {},
   "outputs": [],
   "source": [
    "import warnings\n",
    "warnings.filterwarnings('ignore')"
   ]
  },
  {
   "cell_type": "code",
   "execution_count": 28,
   "metadata": {},
   "outputs": [],
   "source": [
    "np.random.seed(0)\n",
    "from keras.models import Model\n",
    "from keras.layers import Dense, Input, Dropout, LSTM, Activation, SimpleRNN, GRU, BatchNormalization\n",
    "from keras.layers.embeddings import Embedding\n",
    "from keras.preprocessing import sequence\n",
    "from keras.initializers import glorot_uniform\n",
    "np.random.seed(1)"
   ]
  },
  {
   "cell_type": "code",
   "execution_count": 29,
   "metadata": {},
   "outputs": [
    {
     "name": "stdout",
     "output_type": "stream",
     "text": [
      "Populating the interactive namespace from numpy and matplotlib\n"
     ]
    }
   ],
   "source": [
    "import seaborn\n",
    "%pylab inline\n",
    "matplotlib.rc('font', family='Arial')"
   ]
  },
  {
   "cell_type": "code",
   "execution_count": 30,
   "metadata": {},
   "outputs": [],
   "source": [
    "def metrics_vs_threshold(model, X, y, legend_loc):\n",
    "    threshold = []\n",
    "    precision = []\n",
    "    recall = []\n",
    "    f1_score = []\n",
    "    for th in range(0, 10):\n",
    "        th = th/10.\n",
    "\n",
    "        threshold.append(th)\n",
    "        prediction = model.predict(X)[:,1]\n",
    "        \n",
    "        precision.append(metrics.precision_score(y, prediction>=th))\n",
    "        recall.append(metrics.recall_score(y, prediction>=th))\n",
    "        # f1_score.append(metrics.f1_score(y, prediction_probability[:,1]>=th))\n",
    "        \n",
    "        \n",
    "    pylab.grid(True)\n",
    "    if precision[9]==0:\n",
    "        pylab.plot(threshold[:9], precision[:9], 'g-', marker='o', label='precision')\n",
    "        # pylab.plot(threshold[:9], f1_score[:9], 'b-', marker='o', label='f1 score')    \n",
    "    else:\n",
    "        pylab.plot(threshold, precision, 'g-', marker='o', label='precision')\n",
    "        # pylab.plot(threshold, f1_score, 'b-', marker='o', label='f1 score') \n",
    "    pylab.plot(threshold, recall, 'r-', marker='o', label='recall')\n",
    "    \n",
    "    pylab.ylim((0, 1.05))\n",
    "    pylab.title('Metrics vs Threshold')\n",
    "    pylab.legend(loc=legend_loc)\n",
    "    \n",
    "    # print 'f1_score max:', max(f1_score), 'threshold:', threshold[argmax(f1_score)]"
   ]
  },
  {
   "cell_type": "markdown",
   "metadata": {},
   "source": [
    "### Load the data"
   ]
  },
  {
   "cell_type": "code",
   "execution_count": 31,
   "metadata": {},
   "outputs": [],
   "source": [
    "data = pd.read_csv('data/Transform_data.csv', sep=';', \n",
    "                   parse_dates=['DateofTermination', 'Timeline'], decimal=\".\")"
   ]
  },
  {
   "cell_type": "code",
   "execution_count": 32,
   "metadata": {},
   "outputs": [
    {
     "data": {
      "text/plain": [
       "(156243, 157)"
      ]
     },
     "execution_count": 32,
     "metadata": {},
     "output_type": "execute_result"
    }
   ],
   "source": [
    "data.shape"
   ]
  },
  {
   "cell_type": "markdown",
   "metadata": {},
   "source": [
    "#### Missing values check"
   ]
  },
  {
   "cell_type": "code",
   "execution_count": 33,
   "metadata": {},
   "outputs": [
    {
     "name": "stdout",
     "output_type": "stream",
     "text": [
      "DateofTermination 154078\n",
      "TerminatedOrResigned 154078\n"
     ]
    }
   ],
   "source": [
    "for col in data.columns:\n",
    "    if sum(data[col].isnull()) > 0:\n",
    "        print(col, sum(data[col].isnull()))"
   ]
  },
  {
   "cell_type": "markdown",
   "metadata": {},
   "source": [
    "### Filters"
   ]
  },
  {
   "cell_type": "code",
   "execution_count": 34,
   "metadata": {},
   "outputs": [
    {
     "data": {
      "text/plain": [
       "Index(['PIN', 'Timeline', 'DateofTermination', 'Country',\n",
       "       'TerminatedOrResigned', 'TL_number', 'target', 'DurationOfSickLeaves_9',\n",
       "       'DurationOfVacations_9', 'English training days_9',\n",
       "       ...\n",
       "       'Projects_0', 'SickLeave_0', 'Training days_0', 'Vacation_0',\n",
       "       'comments_0', 'dRisk_0', 'dValue_0', 'likes_0', 'pages_loaded_0',\n",
       "       'posts_0'],\n",
       "      dtype='object', length=157)"
      ]
     },
     "execution_count": 34,
     "metadata": {},
     "output_type": "execute_result"
    }
   ],
   "source": [
    "data.columns"
   ]
  },
  {
   "cell_type": "markdown",
   "metadata": {},
   "source": [
    "#### Location"
   ]
  },
  {
   "cell_type": "code",
   "execution_count": 35,
   "metadata": {},
   "outputs": [],
   "source": [
    "# data.Country.value_counts()"
   ]
  },
  {
   "cell_type": "code",
   "execution_count": 36,
   "metadata": {},
   "outputs": [
    {
     "name": "stdout",
     "output_type": "stream",
     "text": [
      "(156243, 157)\n",
      "(39526, 157)\n"
     ]
    }
   ],
   "source": [
    "print(data.shape)\n",
    "data = data[data.Country=='RUSSIA']\n",
    "print(data.shape)"
   ]
  },
  {
   "cell_type": "markdown",
   "metadata": {},
   "source": [
    "#### Bad PINs"
   ]
  },
  {
   "cell_type": "code",
   "execution_count": 37,
   "metadata": {},
   "outputs": [
    {
     "data": {
      "text/html": [
       "<div>\n",
       "<style scoped>\n",
       "    .dataframe tbody tr th:only-of-type {\n",
       "        vertical-align: middle;\n",
       "    }\n",
       "\n",
       "    .dataframe tbody tr th {\n",
       "        vertical-align: top;\n",
       "    }\n",
       "\n",
       "    .dataframe thead th {\n",
       "        text-align: right;\n",
       "    }\n",
       "</style>\n",
       "<table border=\"1\" class=\"dataframe\">\n",
       "  <thead>\n",
       "    <tr style=\"text-align: right;\">\n",
       "      <th></th>\n",
       "      <th></th>\n",
       "      <th>target</th>\n",
       "    </tr>\n",
       "    <tr>\n",
       "      <th>TL_number</th>\n",
       "      <th>Timeline</th>\n",
       "      <th></th>\n",
       "    </tr>\n",
       "  </thead>\n",
       "  <tbody>\n",
       "    <tr>\n",
       "      <th>11.0</th>\n",
       "      <th>2016-06-01</th>\n",
       "      <td>11</td>\n",
       "    </tr>\n",
       "    <tr>\n",
       "      <th>12.0</th>\n",
       "      <th>2016-07-01</th>\n",
       "      <td>21</td>\n",
       "    </tr>\n",
       "    <tr>\n",
       "      <th>13.0</th>\n",
       "      <th>2016-08-01</th>\n",
       "      <td>21</td>\n",
       "    </tr>\n",
       "    <tr>\n",
       "      <th>14.0</th>\n",
       "      <th>2016-09-01</th>\n",
       "      <td>25</td>\n",
       "    </tr>\n",
       "    <tr>\n",
       "      <th>15.0</th>\n",
       "      <th>2016-10-01</th>\n",
       "      <td>16</td>\n",
       "    </tr>\n",
       "    <tr>\n",
       "      <th>16.0</th>\n",
       "      <th>2016-11-01</th>\n",
       "      <td>25</td>\n",
       "    </tr>\n",
       "    <tr>\n",
       "      <th>17.0</th>\n",
       "      <th>2016-12-01</th>\n",
       "      <td>17</td>\n",
       "    </tr>\n",
       "    <tr>\n",
       "      <th>18.0</th>\n",
       "      <th>2017-01-01</th>\n",
       "      <td>13</td>\n",
       "    </tr>\n",
       "    <tr>\n",
       "      <th>19.0</th>\n",
       "      <th>2017-02-01</th>\n",
       "      <td>18</td>\n",
       "    </tr>\n",
       "    <tr>\n",
       "      <th>20.0</th>\n",
       "      <th>2017-03-01</th>\n",
       "      <td>14</td>\n",
       "    </tr>\n",
       "    <tr>\n",
       "      <th>21.0</th>\n",
       "      <th>2017-04-01</th>\n",
       "      <td>21</td>\n",
       "    </tr>\n",
       "    <tr>\n",
       "      <th>22.0</th>\n",
       "      <th>2017-05-01</th>\n",
       "      <td>29</td>\n",
       "    </tr>\n",
       "    <tr>\n",
       "      <th>23.0</th>\n",
       "      <th>2017-06-01</th>\n",
       "      <td>26</td>\n",
       "    </tr>\n",
       "    <tr>\n",
       "      <th>24.0</th>\n",
       "      <th>2017-07-01</th>\n",
       "      <td>33</td>\n",
       "    </tr>\n",
       "    <tr>\n",
       "      <th>25.0</th>\n",
       "      <th>2017-08-01</th>\n",
       "      <td>16</td>\n",
       "    </tr>\n",
       "    <tr>\n",
       "      <th>26.0</th>\n",
       "      <th>2017-09-01</th>\n",
       "      <td>24</td>\n",
       "    </tr>\n",
       "    <tr>\n",
       "      <th>27.0</th>\n",
       "      <th>2017-10-01</th>\n",
       "      <td>28</td>\n",
       "    </tr>\n",
       "    <tr>\n",
       "      <th>28.0</th>\n",
       "      <th>2017-11-01</th>\n",
       "      <td>27</td>\n",
       "    </tr>\n",
       "    <tr>\n",
       "      <th>29.0</th>\n",
       "      <th>2017-12-01</th>\n",
       "      <td>19</td>\n",
       "    </tr>\n",
       "    <tr>\n",
       "      <th>30.0</th>\n",
       "      <th>2018-01-01</th>\n",
       "      <td>20</td>\n",
       "    </tr>\n",
       "    <tr>\n",
       "      <th>31.0</th>\n",
       "      <th>2018-02-01</th>\n",
       "      <td>21</td>\n",
       "    </tr>\n",
       "    <tr>\n",
       "      <th>32.0</th>\n",
       "      <th>2018-03-01</th>\n",
       "      <td>18</td>\n",
       "    </tr>\n",
       "    <tr>\n",
       "      <th>33.0</th>\n",
       "      <th>2018-04-01</th>\n",
       "      <td>20</td>\n",
       "    </tr>\n",
       "    <tr>\n",
       "      <th>34.0</th>\n",
       "      <th>2018-05-01</th>\n",
       "      <td>12</td>\n",
       "    </tr>\n",
       "    <tr>\n",
       "      <th>35.0</th>\n",
       "      <th>2018-06-01</th>\n",
       "      <td>16</td>\n",
       "    </tr>\n",
       "  </tbody>\n",
       "</table>\n",
       "</div>"
      ],
      "text/plain": [
       "                      target\n",
       "TL_number Timeline          \n",
       "11.0      2016-06-01      11\n",
       "12.0      2016-07-01      21\n",
       "13.0      2016-08-01      21\n",
       "14.0      2016-09-01      25\n",
       "15.0      2016-10-01      16\n",
       "16.0      2016-11-01      25\n",
       "17.0      2016-12-01      17\n",
       "18.0      2017-01-01      13\n",
       "19.0      2017-02-01      18\n",
       "20.0      2017-03-01      14\n",
       "21.0      2017-04-01      21\n",
       "22.0      2017-05-01      29\n",
       "23.0      2017-06-01      26\n",
       "24.0      2017-07-01      33\n",
       "25.0      2017-08-01      16\n",
       "26.0      2017-09-01      24\n",
       "27.0      2017-10-01      28\n",
       "28.0      2017-11-01      27\n",
       "29.0      2017-12-01      19\n",
       "30.0      2018-01-01      20\n",
       "31.0      2018-02-01      21\n",
       "32.0      2018-03-01      18\n",
       "33.0      2018-04-01      20\n",
       "34.0      2018-05-01      12\n",
       "35.0      2018-06-01      16"
      ]
     },
     "execution_count": 37,
     "metadata": {},
     "output_type": "execute_result"
    }
   ],
   "source": [
    "tmp = data[['TL_number', 'Timeline', 'target']].copy()\n",
    "tmp.groupby(['TL_number', 'Timeline']).sum()"
   ]
  },
  {
   "cell_type": "code",
   "execution_count": 38,
   "metadata": {},
   "outputs": [
    {
     "data": {
      "text/plain": [
       "(39526, 157)"
      ]
     },
     "execution_count": 38,
     "metadata": {},
     "output_type": "execute_result"
    }
   ],
   "source": [
    "data.shape"
   ]
  },
  {
   "cell_type": "code",
   "execution_count": 39,
   "metadata": {},
   "outputs": [
    {
     "data": {
      "text/plain": [
       "483"
      ]
     },
     "execution_count": 39,
     "metadata": {},
     "output_type": "execute_result"
    }
   ],
   "source": [
    "badPins = data[(data.target==1)&(data.TL_number < 34)].PIN\n",
    "len(badPins)"
   ]
  },
  {
   "cell_type": "code",
   "execution_count": 40,
   "metadata": {},
   "outputs": [
    {
     "data": {
      "text/plain": [
       "(35192, 157)"
      ]
     },
     "execution_count": 40,
     "metadata": {},
     "output_type": "execute_result"
    }
   ],
   "source": [
    "data = data[~((data.PIN.isin(badPins))&(data.target==0))]\n",
    "data.shape"
   ]
  },
  {
   "cell_type": "code",
   "execution_count": 41,
   "metadata": {},
   "outputs": [
    {
     "data": {
      "text/plain": [
       "0    34681\n",
       "1      511\n",
       "Name: target, dtype: int64"
      ]
     },
     "execution_count": 41,
     "metadata": {},
     "output_type": "execute_result"
    }
   ],
   "source": [
    "data.target.value_counts()"
   ]
  },
  {
   "cell_type": "code",
   "execution_count": 42,
   "metadata": {},
   "outputs": [
    {
     "data": {
      "text/plain": [
       "(35192, 155)"
      ]
     },
     "execution_count": 42,
     "metadata": {},
     "output_type": "execute_result"
    }
   ],
   "source": [
    "drop_cols = [\n",
    "\n",
    "# 'City',\n",
    "'Country',\n",
    "# 'Specialization',\n",
    "# 'Sex',\n",
    " 'TerminatedOrResigned',\n",
    "# 'MonthsInCurrentPosition',\n",
    "    \n",
    "]\n",
    "for col in drop_cols:\n",
    "    names = [c for c in data.columns if c.startswith(col)]\n",
    "    data = data.drop(names, axis = 1)\n",
    "data.shape"
   ]
  },
  {
   "cell_type": "markdown",
   "metadata": {},
   "source": [
    "### Augmentation"
   ]
  },
  {
   "cell_type": "code",
   "execution_count": 43,
   "metadata": {},
   "outputs": [
    {
     "data": {
      "text/plain": [
       "0    34681\n",
       "1      511\n",
       "Name: target, dtype: int64"
      ]
     },
     "execution_count": 43,
     "metadata": {},
     "output_type": "execute_result"
    }
   ],
   "source": [
    "data.target.value_counts()"
   ]
  },
  {
   "cell_type": "code",
   "execution_count": 44,
   "metadata": {},
   "outputs": [],
   "source": [
    "def augm(data, mult, not_processing_timeline):\n",
    "    data_target = data[(data.TL_number!=not_processing_timeline)&(data.target==1)]\n",
    "    for i in range(mult):\n",
    "        data = data.append(data_target, ignore_index=True)\n",
    "    data = data.sample(frac=1.0, replace=False, random_state=13)\n",
    "    return data"
   ]
  },
  {
   "cell_type": "code",
   "execution_count": 45,
   "metadata": {},
   "outputs": [],
   "source": [
    "## Do not do it if the balance of classes allows!\n",
    "data = augm(data, 20, 36.0) ### check the not_processing_timeline !"
   ]
  },
  {
   "cell_type": "code",
   "execution_count": 46,
   "metadata": {},
   "outputs": [
    {
     "data": {
      "text/plain": [
       "0    34681\n",
       "1    10731\n",
       "Name: target, dtype: int64"
      ]
     },
     "execution_count": 46,
     "metadata": {},
     "output_type": "execute_result"
    }
   ],
   "source": [
    "data.target.value_counts()"
   ]
  },
  {
   "cell_type": "markdown",
   "metadata": {},
   "source": [
    "### Features selection"
   ]
  },
  {
   "cell_type": "code",
   "execution_count": 48,
   "metadata": {},
   "outputs": [],
   "source": [
    "# for col in data.columns:\n",
    "#     print(\"'\"+col+\"',\")"
   ]
  },
  {
   "cell_type": "code",
   "execution_count": null,
   "metadata": {},
   "outputs": [],
   "source": []
  },
  {
   "cell_type": "markdown",
   "metadata": {
    "collapsed": true
   },
   "source": [
    "#### Separation of samples by time"
   ]
  },
  {
   "cell_type": "code",
   "execution_count": 49,
   "metadata": {},
   "outputs": [
    {
     "name": "stdout",
     "output_type": "stream",
     "text": [
      "0    14002\n",
      "1     4242\n",
      "Name: target, dtype: int64\n",
      "0    1835\n",
      "1     336\n",
      "Name: target, dtype: int64\n",
      "n_samples: 18244\n",
      "n_slices: 10\n",
      "n_features: 15\n"
     ]
    }
   ],
   "source": [
    "tls = [33, 31, 29, 27, 25, 23, 21, 19, 17, 15]\n",
    "train_data = data[data.TL_number.isin(tls)].copy()\n",
    "test_data = data[(data.TL_number==35)].copy()\n",
    "\n",
    "print(train_data.target.value_counts())\n",
    "print(test_data.target.value_counts())\n",
    "\n",
    "train_data = train_data.drop(['DateofTermination'], axis=1)\n",
    "test_data = test_data.drop(['DateofTermination'], axis=1)\n",
    "\n",
    "train_labels = train_data.target     \n",
    "train_data = train_data.drop(['TL_number', 'target', 'Timeline'], axis=1)  \n",
    "train_data = train_data.drop('PIN', axis=1)\n",
    "train_data = train_data.sample(frac=1.0, replace=False, random_state=13)\n",
    "\n",
    "test_labels = test_data.target     \n",
    "test_data = test_data.drop(['TL_number', 'target', 'Timeline'], axis=1)  \n",
    "test_data = test_data.drop('PIN', axis=1)\n",
    "\n",
    "n_slices = 10\n",
    "names = [c for c in train_data.columns if c.endswith('_0')]\n",
    "n_features = train_data[names].shape[1]\n",
    "n_samples = train_data.shape[0]\n",
    "\n",
    "print('n_samples:', n_samples)\n",
    "print('n_slices:', n_slices)\n",
    "print('n_features:', n_features)\n",
    "\n",
    "X = np.array(train_data).reshape((n_samples, n_slices, n_features))\n",
    "X_test = np.array(test_data).reshape((test_data.shape[0], n_slices, n_features))\n",
    "\n",
    "y = np.vstack((train_labels==0,train_labels==1)).T.astype(int)\n",
    "y_test = np.vstack((test_labels==0,test_labels==1)).T.astype(int)"
   ]
  },
  {
   "cell_type": "code",
   "execution_count": 50,
   "metadata": {},
   "outputs": [],
   "source": [
    "from keras import backend as K\n",
    "\n",
    "def f1(y_true, y_pred):\n",
    "    def recall(y_true, y_pred):\n",
    "        \n",
    "        y_true = y_true[:,1]\n",
    "        y_pred = y_pred[:,1]\n",
    "        \n",
    "        \"\"\"Recall metric.\n",
    "\n",
    "        Only computes a batch-wise average of recall.\n",
    "\n",
    "        Computes the recall, a metric for multi-label classification of\n",
    "        how many relevant items are selected.\n",
    "        \"\"\"\n",
    "        true_positives = K.sum(K.round(K.clip(y_true * y_pred, 0, 1)))\n",
    "        possible_positives = K.sum(K.round(K.clip(y_true, 0, 1)))\n",
    "        recall = true_positives / (possible_positives + K.epsilon())\n",
    "        return recall\n",
    "\n",
    "    def precision(y_true, y_pred):\n",
    "        \n",
    "        y_true = y_true[:,1]\n",
    "        y_pred = y_pred[:,1]\n",
    "        \n",
    "        \"\"\"Precision metric.\n",
    "\n",
    "        Only computes a batch-wise average of precision.\n",
    "\n",
    "        Computes the precision, a metric for multi-label classification of\n",
    "        how many selected items are relevant.\n",
    "        \"\"\"\n",
    "        true_positives = K.sum(K.round(K.clip(y_true * y_pred, 0, 1)))\n",
    "        predicted_positives = K.sum(K.round(K.clip(y_pred, 0, 1)))\n",
    "        precision = true_positives / (predicted_positives + K.epsilon())\n",
    "        return precision\n",
    "    \n",
    "    precision = precision(y_true, y_pred)\n",
    "    recall = recall(y_true, y_pred)\n",
    "    return 2*((precision*recall)/(precision+recall+K.epsilon()))"
   ]
  },
  {
   "cell_type": "code",
   "execution_count": 51,
   "metadata": {},
   "outputs": [],
   "source": [
    "def lstm_mod(input_shape):\n",
    "    \"\"\"\n",
    "    Function creating the model's graph.\n",
    "    \n",
    "    Arguments:\n",
    "    input_shape -- shape of the input, usually (max_len,)\n",
    "\n",
    "    Returns:\n",
    "    model -- a model instance in Keras\n",
    "    \"\"\"\n",
    "    \n",
    "\n",
    "    feature_vector = Input(shape = input_shape)\n",
    "    \n",
    "    X = LSTM(units=64, return_sequences=True)(feature_vector)\n",
    "    X = Dropout(rate=0.2)(X)\n",
    "    \n",
    "    X = LSTM(units=32, return_sequences=False)(X)\n",
    "    X = Dropout(rate=0.2)(X)\n",
    "    \n",
    "    X = Dense(2)(X)\n",
    "    X = Activation('softmax')(X)\n",
    "    \n",
    "    model = Model(inputs=feature_vector, outputs=X)\n",
    "    \n",
    "    return model"
   ]
  },
  {
   "cell_type": "code",
   "execution_count": 59,
   "metadata": {},
   "outputs": [
    {
     "name": "stdout",
     "output_type": "stream",
     "text": [
      "_________________________________________________________________\n",
      "Layer (type)                 Output Shape              Param #   \n",
      "=================================================================\n",
      "input_2 (InputLayer)         (None, 10, 15)            0         \n",
      "_________________________________________________________________\n",
      "lstm_3 (LSTM)                (None, 10, 64)            20480     \n",
      "_________________________________________________________________\n",
      "dropout_3 (Dropout)          (None, 10, 64)            0         \n",
      "_________________________________________________________________\n",
      "lstm_4 (LSTM)                (None, 32)                12416     \n",
      "_________________________________________________________________\n",
      "dropout_4 (Dropout)          (None, 32)                0         \n",
      "_________________________________________________________________\n",
      "dense_2 (Dense)              (None, 2)                 66        \n",
      "_________________________________________________________________\n",
      "activation_2 (Activation)    (None, 2)                 0         \n",
      "=================================================================\n",
      "Total params: 32,962\n",
      "Trainable params: 32,962\n",
      "Non-trainable params: 0\n",
      "_________________________________________________________________\n"
     ]
    }
   ],
   "source": [
    "model = lstm_mod((n_slices,n_features,))\n",
    "model.summary()"
   ]
  },
  {
   "cell_type": "code",
   "execution_count": 60,
   "metadata": {},
   "outputs": [],
   "source": [
    "model.compile(loss='categorical_crossentropy', optimizer='adam', metrics=[f1])"
   ]
  },
  {
   "cell_type": "code",
   "execution_count": null,
   "metadata": {},
   "outputs": [],
   "source": [
    "#model.compile(loss='sparse_categorical_crossentropy', optimizer='adam', metrics=['accuracy'])"
   ]
  },
  {
   "cell_type": "code",
   "execution_count": 61,
   "metadata": {},
   "outputs": [
    {
     "name": "stdout",
     "output_type": "stream",
     "text": [
      "Epoch 1/100\n",
      "18244/18244 [==============================] - 6s 341us/step - loss: 0.5559 - f1: 0.0051\n",
      "Epoch 2/100\n",
      "18244/18244 [==============================] - 4s 242us/step - loss: 0.5446 - f1: 5.0114e-04\n",
      "Epoch 3/100\n",
      "18244/18244 [==============================] - 5s 254us/step - loss: 0.5440 - f1: 0.0000e+00\n",
      "Epoch 4/100\n",
      "18244/18244 [==============================] - 5s 253us/step - loss: 0.5430 - f1: 0.0000e+00\n",
      "Epoch 5/100\n",
      "18244/18244 [==============================] - 5s 251us/step - loss: 0.5424 - f1: 0.0000e+00\n",
      "Epoch 6/100\n",
      "18244/18244 [==============================] - 5s 251us/step - loss: 0.5418 - f1: 0.0016\n",
      "Epoch 7/100\n",
      "18244/18244 [==============================] - 5s 252us/step - loss: 0.5415 - f1: 4.3850e-04\n",
      "Epoch 8/100\n",
      "18244/18244 [==============================] - 5s 253us/step - loss: 0.5410 - f1: 0.0019\n",
      "Epoch 9/100\n",
      "18244/18244 [==============================] - 5s 254us/step - loss: 0.5408 - f1: 8.7700e-04\n",
      "Epoch 10/100\n",
      "18244/18244 [==============================] - 5s 253us/step - loss: 0.5395 - f1: 0.0035\n",
      "Epoch 11/100\n",
      "18244/18244 [==============================] - 5s 254us/step - loss: 0.5396 - f1: 0.0053\n",
      "Epoch 12/100\n",
      "18244/18244 [==============================] - 5s 262us/step - loss: 0.5388 - f1: 0.0050\n",
      "Epoch 13/100\n",
      "18244/18244 [==============================] - 5s 255us/step - loss: 0.5376 - f1: 0.0051\n",
      "Epoch 14/100\n",
      "18244/18244 [==============================] - 5s 256us/step - loss: 0.5372 - f1: 0.0061\n",
      "Epoch 15/100\n",
      "18244/18244 [==============================] - 5s 258us/step - loss: 0.5354 - f1: 0.0071\n",
      "Epoch 16/100\n",
      "18244/18244 [==============================] - 5s 253us/step - loss: 0.5356 - f1: 0.0058\n",
      "Epoch 17/100\n",
      "18244/18244 [==============================] - 5s 253us/step - loss: 0.5348 - f1: 0.0090\n",
      "Epoch 18/100\n",
      "18244/18244 [==============================] - 5s 263us/step - loss: 0.5317 - f1: 0.0095\n",
      "Epoch 19/100\n",
      "18244/18244 [==============================] - 5s 269us/step - loss: 0.5316 - f1: 0.0079\n",
      "Epoch 20/100\n",
      "18244/18244 [==============================] - 5s 265us/step - loss: 0.5298 - f1: 0.0179\n",
      "Epoch 21/100\n",
      "18244/18244 [==============================] - 5s 251us/step - loss: 0.5291 - f1: 0.0210\n",
      "Epoch 22/100\n",
      "18244/18244 [==============================] - 5s 250us/step - loss: 0.5264 - f1: 0.0207\n",
      "Epoch 23/100\n",
      "18244/18244 [==============================] - 5s 259us/step - loss: 0.5261 - f1: 0.0317\n",
      "Epoch 24/100\n",
      "18244/18244 [==============================] - 5s 265us/step - loss: 0.5227 - f1: 0.0428\n",
      "Epoch 25/100\n",
      "18244/18244 [==============================] - 5s 264us/step - loss: 0.5210 - f1: 0.0482\n",
      "Epoch 26/100\n",
      "18244/18244 [==============================] - 5s 263us/step - loss: 0.5182 - f1: 0.0623\n",
      "Epoch 27/100\n",
      "18244/18244 [==============================] - 5s 267us/step - loss: 0.5172 - f1: 0.0636\n",
      "Epoch 28/100\n",
      "18244/18244 [==============================] - 5s 270us/step - loss: 0.5148 - f1: 0.0764\n",
      "Epoch 29/100\n",
      "18244/18244 [==============================] - 5s 270us/step - loss: 0.5113 - f1: 0.0827\n",
      "Epoch 30/100\n",
      "18244/18244 [==============================] - 5s 272us/step - loss: 0.5099 - f1: 0.0960\n",
      "Epoch 31/100\n",
      "18244/18244 [==============================] - 5s 250us/step - loss: 0.5071 - f1: 0.1083\n",
      "Epoch 32/100\n",
      "18244/18244 [==============================] - 5s 283us/step - loss: 0.5041 - f1: 0.1259\n",
      "Epoch 33/100\n",
      "18244/18244 [==============================] - 5s 254us/step - loss: 0.4997 - f1: 0.1489\n",
      "Epoch 34/100\n",
      "18244/18244 [==============================] - 5s 254us/step - loss: 0.4990 - f1: 0.1506\n",
      "Epoch 35/100\n",
      "18244/18244 [==============================] - 5s 259us/step - loss: 0.4954 - f1: 0.1752\n",
      "Epoch 36/100\n",
      "18244/18244 [==============================] - 5s 258us/step - loss: 0.4933 - f1: 0.1821\n",
      "Epoch 37/100\n",
      "18244/18244 [==============================] - 5s 256us/step - loss: 0.4882 - f1: 0.1978\n",
      "Epoch 38/100\n",
      "18244/18244 [==============================] - 5s 258us/step - loss: 0.4861 - f1: 0.2225\n",
      "Epoch 39/100\n",
      "18244/18244 [==============================] - 5s 263us/step - loss: 0.4822 - f1: 0.2317\n",
      "Epoch 40/100\n",
      "18244/18244 [==============================] - 5s 265us/step - loss: 0.4803 - f1: 0.2313\n",
      "Epoch 41/100\n",
      "18244/18244 [==============================] - 4s 234us/step - loss: 0.4760 - f1: 0.2495\n",
      "Epoch 42/100\n",
      "18244/18244 [==============================] - 4s 245us/step - loss: 0.4729 - f1: 0.2738\n",
      "Epoch 43/100\n",
      "18244/18244 [==============================] - 5s 255us/step - loss: 0.4720 - f1: 0.2608\n",
      "Epoch 44/100\n",
      "18244/18244 [==============================] - 4s 218us/step - loss: 0.4661 - f1: 0.2911\n",
      "Epoch 45/100\n",
      "18244/18244 [==============================] - 4s 234us/step - loss: 0.4656 - f1: 0.2968\n",
      "Epoch 46/100\n",
      "18244/18244 [==============================] - 4s 230us/step - loss: 0.4606 - f1: 0.3094\n",
      "Epoch 47/100\n",
      "18244/18244 [==============================] - 4s 213us/step - loss: 0.4579 - f1: 0.3169\n",
      "Epoch 48/100\n",
      "18244/18244 [==============================] - 4s 229us/step - loss: 0.4559 - f1: 0.3233\n",
      "Epoch 49/100\n",
      "18244/18244 [==============================] - 4s 243us/step - loss: 0.4503 - f1: 0.3369\n",
      "Epoch 50/100\n",
      "18244/18244 [==============================] - 4s 226us/step - loss: 0.4488 - f1: 0.3514\n",
      "Epoch 51/100\n",
      "18244/18244 [==============================] - 5s 260us/step - loss: 0.4449 - f1: 0.3631\n",
      "Epoch 52/100\n",
      "18244/18244 [==============================] - 4s 220us/step - loss: 0.4399 - f1: 0.3630\n",
      "Epoch 53/100\n",
      "18244/18244 [==============================] - 4s 217us/step - loss: 0.4413 - f1: 0.3610\n",
      "Epoch 54/100\n",
      "18244/18244 [==============================] - 4s 222us/step - loss: 0.4351 - f1: 0.3842\n",
      "Epoch 55/100\n",
      "18244/18244 [==============================] - 4s 222us/step - loss: 0.4332 - f1: 0.3775\n",
      "Epoch 56/100\n",
      "18244/18244 [==============================] - 4s 219us/step - loss: 0.4278 - f1: 0.4111\n",
      "Epoch 57/100\n",
      "18244/18244 [==============================] - 4s 214us/step - loss: 0.4228 - f1: 0.4096\n",
      "Epoch 58/100\n",
      "18244/18244 [==============================] - 4s 213us/step - loss: 0.4257 - f1: 0.4049\n",
      "Epoch 59/100\n",
      "18244/18244 [==============================] - 4s 236us/step - loss: 0.4172 - f1: 0.42061s - los\n",
      "Epoch 60/100\n",
      "18244/18244 [==============================] - 4s 237us/step - loss: 0.4160 - f1: 0.4227\n",
      "Epoch 61/100\n",
      "18244/18244 [==============================] - 4s 241us/step - loss: 0.4187 - f1: 0.4316\n",
      "Epoch 62/100\n",
      "18244/18244 [==============================] - 5s 250us/step - loss: 0.4107 - f1: 0.43580s - los\n",
      "Epoch 63/100\n",
      "18244/18244 [==============================] - 5s 252us/step - loss: 0.4126 - f1: 0.4313\n",
      "Epoch 64/100\n",
      "18244/18244 [==============================] - 4s 218us/step - loss: 0.4067 - f1: 0.4480\n",
      "Epoch 65/100\n",
      "18244/18244 [==============================] - 4s 216us/step - loss: 0.4058 - f1: 0.4557\n",
      "Epoch 66/100\n",
      "18244/18244 [==============================] - 4s 217us/step - loss: 0.4009 - f1: 0.4650\n",
      "Epoch 67/100\n",
      "18244/18244 [==============================] - 4s 214us/step - loss: 0.3951 - f1: 0.4727\n",
      "Epoch 68/100\n",
      "18244/18244 [==============================] - 4s 213us/step - loss: 0.3935 - f1: 0.4889\n",
      "Epoch 69/100\n",
      "18244/18244 [==============================] - 4s 215us/step - loss: 0.3917 - f1: 0.4856\n",
      "Epoch 70/100\n",
      "18244/18244 [==============================] - 4s 213us/step - loss: 0.3938 - f1: 0.4835\n",
      "Epoch 71/100\n",
      "18244/18244 [==============================] - 4s 224us/step - loss: 0.3870 - f1: 0.4976\n",
      "Epoch 72/100\n",
      "18244/18244 [==============================] - 4s 215us/step - loss: 0.3838 - f1: 0.49220s - loss: 0.3849 \n",
      "Epoch 73/100\n",
      "18244/18244 [==============================] - 4s 232us/step - loss: 0.3841 - f1: 0.5002\n",
      "Epoch 74/100\n",
      "18244/18244 [==============================] - 4s 228us/step - loss: 0.3784 - f1: 0.5071\n",
      "Epoch 75/100\n",
      "18244/18244 [==============================] - 4s 219us/step - loss: 0.3795 - f1: 0.5097\n",
      "Epoch 76/100\n",
      "18244/18244 [==============================] - 4s 236us/step - loss: 0.3759 - f1: 0.51520s -\n",
      "Epoch 77/100\n",
      "18244/18244 [==============================] - 5s 254us/step - loss: 0.3785 - f1: 0.5159\n",
      "Epoch 78/100\n",
      "18244/18244 [==============================] - 5s 270us/step - loss: 0.3738 - f1: 0.5200\n",
      "Epoch 79/100\n",
      "18244/18244 [==============================] - 5s 267us/step - loss: 0.3688 - f1: 0.5333\n",
      "Epoch 80/100\n"
     ]
    },
    {
     "name": "stdout",
     "output_type": "stream",
     "text": [
      "18244/18244 [==============================] - 5s 248us/step - loss: 0.3691 - f1: 0.5386\n",
      "Epoch 81/100\n",
      "18244/18244 [==============================] - 4s 242us/step - loss: 0.3646 - f1: 0.5352\n",
      "Epoch 82/100\n",
      "18244/18244 [==============================] - 4s 246us/step - loss: 0.3625 - f1: 0.5413\n",
      "Epoch 83/100\n",
      "18244/18244 [==============================] - 5s 248us/step - loss: 0.3602 - f1: 0.5454\n",
      "Epoch 84/100\n",
      "18244/18244 [==============================] - 5s 253us/step - loss: 0.3660 - f1: 0.5430\n",
      "Epoch 85/100\n",
      "18244/18244 [==============================] - 5s 253us/step - loss: 0.3605 - f1: 0.5421\n",
      "Epoch 86/100\n",
      "18244/18244 [==============================] - 5s 251us/step - loss: 0.3546 - f1: 0.5604\n",
      "Epoch 87/100\n",
      "18244/18244 [==============================] - 5s 252us/step - loss: 0.3531 - f1: 0.5552\n",
      "Epoch 88/100\n",
      "18244/18244 [==============================] - 5s 252us/step - loss: 0.3537 - f1: 0.5595\n",
      "Epoch 89/100\n",
      "18244/18244 [==============================] - 5s 253us/step - loss: 0.3506 - f1: 0.5681\n",
      "Epoch 90/100\n",
      "18244/18244 [==============================] - 5s 252us/step - loss: 0.3475 - f1: 0.5659\n",
      "Epoch 91/100\n",
      "18244/18244 [==============================] - 5s 253us/step - loss: 0.3482 - f1: 0.5681\n",
      "Epoch 92/100\n",
      "18244/18244 [==============================] - 5s 254us/step - loss: 0.3473 - f1: 0.5754\n",
      "Epoch 93/100\n",
      "18244/18244 [==============================] - 5s 264us/step - loss: 0.3480 - f1: 0.5689\n",
      "Epoch 94/100\n",
      "18244/18244 [==============================] - 5s 254us/step - loss: 0.3425 - f1: 0.5826\n",
      "Epoch 95/100\n",
      "18244/18244 [==============================] - 5s 254us/step - loss: 0.3394 - f1: 0.5859\n",
      "Epoch 96/100\n",
      "18244/18244 [==============================] - 5s 253us/step - loss: 0.3487 - f1: 0.5709\n",
      "Epoch 97/100\n",
      "18244/18244 [==============================] - 5s 254us/step - loss: 0.3344 - f1: 0.5952\n",
      "Epoch 98/100\n",
      "18244/18244 [==============================] - 5s 255us/step - loss: 0.3355 - f1: 0.5947\n",
      "Epoch 99/100\n",
      "18244/18244 [==============================] - 5s 254us/step - loss: 0.3392 - f1: 0.5833\n",
      "Epoch 100/100\n",
      "18244/18244 [==============================] - 5s 273us/step - loss: 0.3348 - f1: 0.5930\n"
     ]
    },
    {
     "data": {
      "text/plain": [
       "<keras.callbacks.History at 0x203d36d8>"
      ]
     },
     "execution_count": 61,
     "metadata": {},
     "output_type": "execute_result"
    }
   ],
   "source": [
    "model.fit(X, y, epochs = 100, batch_size = 128, shuffle=True)"
   ]
  },
  {
   "cell_type": "code",
   "execution_count": 63,
   "metadata": {},
   "outputs": [
    {
     "name": "stdout",
     "output_type": "stream",
     "text": [
      "2171/2171 [==============================] - 0s 159us/step\n",
      "loss =  0.9361282086273538\n",
      "Test accuracy =  0.21345267158288223\n"
     ]
    }
   ],
   "source": [
    "loss, f1 = model.evaluate(X_test, y_test)\n",
    "print(\"loss = \", loss)\n",
    "print(\"Test accuracy = \", f1)"
   ]
  },
  {
   "cell_type": "code",
   "execution_count": 64,
   "metadata": {},
   "outputs": [],
   "source": [
    "y_pred = model.predict(X_test)"
   ]
  },
  {
   "cell_type": "code",
   "execution_count": 65,
   "metadata": {},
   "outputs": [
    {
     "data": {
      "text/plain": [
       "array([0.7581944 , 0.24180558], dtype=float32)"
      ]
     },
     "execution_count": 65,
     "metadata": {},
     "output_type": "execute_result"
    }
   ],
   "source": [
    "y_pred[0]"
   ]
  },
  {
   "cell_type": "code",
   "execution_count": 66,
   "metadata": {},
   "outputs": [
    {
     "name": "stdout",
     "output_type": "stream",
     "text": [
      "             precision    recall  f1-score   support\n",
      "\n",
      "          0       0.86      0.85      0.85      1835\n",
      "          1       0.23      0.25      0.24       336\n",
      "\n",
      "avg / total       0.76      0.75      0.76      2171\n",
      "\n"
     ]
    }
   ],
   "source": [
    "print(metrics.classification_report(test_labels, y_pred[:,1]>0.5))"
   ]
  },
  {
   "cell_type": "code",
   "execution_count": 67,
   "metadata": {},
   "outputs": [
    {
     "data": {
      "image/png": "[encoded data removed]",
      "text/plain": [
       "<Figure size 432x288 with 1 Axes>"
      ]
     },
     "metadata": {},
     "output_type": "display_data"
    }
   ],
   "source": [
    "metrics_vs_threshold(model, X_test, test_labels, 'upper left')"
   ]
  }
 ],
 "metadata": {
  "kernelspec": {
   "display_name": "Python 3",
   "language": "python",
   "name": "python3"
  },
  "language_info": {
   "codemirror_mode": {
    "name": "ipython",
    "version": 3
   },
   "file_extension": ".py",
   "mimetype": "text/x-python",
   "name": "python",
   "nbconvert_exporter": "python",
   "pygments_lexer": "ipython3",
   "version": "3.6.5"
  }
 },
 "nbformat": 4,
 "nbformat_minor": 2
}
