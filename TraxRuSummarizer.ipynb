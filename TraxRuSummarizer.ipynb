{
  "nbformat": 4,
  "nbformat_minor": 0,
  "metadata": {
    "colab": {
      "name": "TraxRuSummarizer.ipynb",
      "provenance": [],
      "toc_visible": true,
      "authorship_tag": "ABX9TyM/B/HRZ2WQLiFpdaXJExkO",
      "include_colab_link": true
    },
    "kernelspec": {
      "name": "python3",
      "display_name": "Python 3"
    }
  },
  "cells": [
    {
      "cell_type": "markdown",
      "metadata": {
        "id": "view-in-github",
        "colab_type": "text"
      },
      "source": [
        "<a href=\"https://colab.research.google.com/github/khmelkoff/BackSlices/blob/master/TraxRuSummarizer.ipynb\" target=\"_parent\"><img src=\"https://colab.research.google.com/assets/colab-badge.svg\" alt=\"Open In Colab\"/></a>"
      ]
    },
    {
      "cell_type": "code",
      "metadata": {
        "colab": {
          "base_uri": "https://localhost:8080/"
        },
        "id": "mSNuqhfqcihA",
        "outputId": "afbfc0f7-21cf-4553-c6a9-7f313b370ce1"
      },
      "source": [
        "!pip -q install trax"
      ],
      "execution_count": 1,
      "outputs": [
        {
          "output_type": "stream",
          "text": [
            "\u001b[K     |████████████████████████████████| 522kB 4.2MB/s \n",
            "\u001b[K     |████████████████████████████████| 215kB 6.8MB/s \n",
            "\u001b[K     |████████████████████████████████| 3.4MB 8.9MB/s \n",
            "\u001b[K     |████████████████████████████████| 1.2MB 51.3MB/s \n",
            "\u001b[K     |████████████████████████████████| 71kB 6.4MB/s \n",
            "\u001b[K     |████████████████████████████████| 3.8MB 52.0MB/s \n",
            "\u001b[K     |████████████████████████████████| 1.8MB 47.9MB/s \n",
            "\u001b[K     |████████████████████████████████| 368kB 55.0MB/s \n",
            "\u001b[K     |████████████████████████████████| 890kB 53.2MB/s \n",
            "\u001b[K     |████████████████████████████████| 2.9MB 49.8MB/s \n",
            "\u001b[?25h  Building wheel for sacremoses (setup.py) ... \u001b[?25l\u001b[?25hdone\n"
          ],
          "name": "stdout"
        }
      ]
    },
    {
      "cell_type": "code",
      "metadata": {
        "id": "m_aqU1MnqnJJ"
      },
      "source": [
        "import pandas as pd\r\n",
        "import numpy as np\r\n",
        "from tqdm import tqdm\r\n",
        "# from unicodedata import normalize\r\n",
        "import sentencepiece as spm"
      ],
      "execution_count": 3,
      "outputs": []
    },
    {
      "cell_type": "code",
      "metadata": {
        "colab": {
          "base_uri": "https://localhost:8080/"
        },
        "id": "eTcmoVfgqzYQ",
        "outputId": "ad09f1cc-350e-4d26-9459-74d64f344e35"
      },
      "source": [
        "from google.colab import drive\r\n",
        "drive.mount('/content/drive')"
      ],
      "execution_count": 4,
      "outputs": [
        {
          "output_type": "stream",
          "text": [
            "Mounted at /content/drive\n"
          ],
          "name": "stdout"
        }
      ]
    },
    {
      "cell_type": "code",
      "metadata": {
        "colab": {
          "base_uri": "https://localhost:8080/",
          "height": 339
        },
        "id": "cEHo8bdTrbAL",
        "outputId": "ce896245-b30d-4dcc-86bd-f2d9116e6099"
      },
      "source": [
        "data = pd.read_csv('/content/drive/MyDrive/lenta-ru-news.csv.zip')\r\n",
        "data.head()"
      ],
      "execution_count": 5,
      "outputs": [
        {
          "output_type": "stream",
          "text": [
            "/usr/local/lib/python3.6/dist-packages/IPython/core/interactiveshell.py:2718: DtypeWarning: Columns (3) have mixed types.Specify dtype option on import or set low_memory=False.\n",
            "  interactivity=interactivity, compiler=compiler, result=result)\n"
          ],
          "name": "stderr"
        },
        {
          "output_type": "execute_result",
          "data": {
            "text/html": [
              "<div>\n",
              "<style scoped>\n",
              "    .dataframe tbody tr th:only-of-type {\n",
              "        vertical-align: middle;\n",
              "    }\n",
              "\n",
              "    .dataframe tbody tr th {\n",
              "        vertical-align: top;\n",
              "    }\n",
              "\n",
              "    .dataframe thead th {\n",
              "        text-align: right;\n",
              "    }\n",
              "</style>\n",
              "<table border=\"1\" class=\"dataframe\">\n",
              "  <thead>\n",
              "    <tr style=\"text-align: right;\">\n",
              "      <th></th>\n",
              "      <th>url</th>\n",
              "      <th>title</th>\n",
              "      <th>text</th>\n",
              "      <th>topic</th>\n",
              "      <th>tags</th>\n",
              "      <th>date</th>\n",
              "    </tr>\n",
              "  </thead>\n",
              "  <tbody>\n",
              "    <tr>\n",
              "      <th>0</th>\n",
              "      <td>https://lenta.ru/news/1914/09/16/hungarnn/</td>\n",
              "      <td>1914. Русские войска вступили в пределы Венгрии</td>\n",
              "      <td>Бои у Сопоцкина и Друскеник закончились отступ...</td>\n",
              "      <td>Библиотека</td>\n",
              "      <td>Первая мировая</td>\n",
              "      <td>1914/09/16</td>\n",
              "    </tr>\n",
              "    <tr>\n",
              "      <th>1</th>\n",
              "      <td>https://lenta.ru/news/1914/09/16/lermontov/</td>\n",
              "      <td>1914. Празднование столетия М.Ю. Лермонтова от...</td>\n",
              "      <td>Министерство народного просвещения, в виду про...</td>\n",
              "      <td>Библиотека</td>\n",
              "      <td>Первая мировая</td>\n",
              "      <td>1914/09/16</td>\n",
              "    </tr>\n",
              "    <tr>\n",
              "      <th>2</th>\n",
              "      <td>https://lenta.ru/news/1914/09/17/nesteroff/</td>\n",
              "      <td>1914. Das ist Nesteroff!</td>\n",
              "      <td>Штабс-капитан П. Н. Нестеров на днях, увидев в...</td>\n",
              "      <td>Библиотека</td>\n",
              "      <td>Первая мировая</td>\n",
              "      <td>1914/09/17</td>\n",
              "    </tr>\n",
              "    <tr>\n",
              "      <th>3</th>\n",
              "      <td>https://lenta.ru/news/1914/09/17/bulldogn/</td>\n",
              "      <td>1914. Бульдог-гонец под Льежем</td>\n",
              "      <td>Фотограф-корреспондент Daily Mirror рассказыва...</td>\n",
              "      <td>Библиотека</td>\n",
              "      <td>Первая мировая</td>\n",
              "      <td>1914/09/17</td>\n",
              "    </tr>\n",
              "    <tr>\n",
              "      <th>4</th>\n",
              "      <td>https://lenta.ru/news/1914/09/18/zver/</td>\n",
              "      <td>1914. Под Люблином пойман швабский зверь</td>\n",
              "      <td>Лица, приехавшие в Варшаву из Люблина, передаю...</td>\n",
              "      <td>Библиотека</td>\n",
              "      <td>Первая мировая</td>\n",
              "      <td>1914/09/18</td>\n",
              "    </tr>\n",
              "  </tbody>\n",
              "</table>\n",
              "</div>"
            ],
            "text/plain": [
              "                                           url  ...        date\n",
              "0   https://lenta.ru/news/1914/09/16/hungarnn/  ...  1914/09/16\n",
              "1  https://lenta.ru/news/1914/09/16/lermontov/  ...  1914/09/16\n",
              "2  https://lenta.ru/news/1914/09/17/nesteroff/  ...  1914/09/17\n",
              "3   https://lenta.ru/news/1914/09/17/bulldogn/  ...  1914/09/17\n",
              "4       https://lenta.ru/news/1914/09/18/zver/  ...  1914/09/18\n",
              "\n",
              "[5 rows x 6 columns]"
            ]
          },
          "metadata": {
            "tags": []
          },
          "execution_count": 5
        }
      ]
    },
    {
      "cell_type": "code",
      "metadata": {
        "colab": {
          "base_uri": "https://localhost:8080/",
          "height": 282
        },
        "id": "f1Kj8ssZdUkc",
        "outputId": "115808c1-7989-4d95-f49d-24b4d3ba4eef"
      },
      "source": [
        "data['text_len'] = [len(x) if not type(x)==float else 0 for x in data.text]\r\n",
        "data.text_len[data.text_len < 2000].hist()"
      ],
      "execution_count": 6,
      "outputs": [
        {
          "output_type": "execute_result",
          "data": {
            "text/plain": [
              "<matplotlib.axes._subplots.AxesSubplot at 0x7f1e7e1f7940>"
            ]
          },
          "metadata": {
            "tags": []
          },
          "execution_count": 6
        },
        {
          "output_type": "display_data",
          "data": {
            "image/png": "[encoded data removed]",
            "text/plain": [
              "<Figure size 432x288 with 1 Axes>"
            ]
          },
          "metadata": {
            "tags": [],
            "needs_background": "light"
          }
        }
      ]
    },
    {
      "cell_type": "code",
      "metadata": {
        "colab": {
          "base_uri": "https://localhost:8080/"
        },
        "id": "1jCVmpc9dUvL",
        "outputId": "e5764a05-976f-4936-faff-6b82e933c169"
      },
      "source": [
        "# text_full = []  # full text list for train senttence piece tokenizer\r\n",
        "text_pairs = [] # paired data for train the model, format: (title, text)\r\n",
        "for i in tqdm(range(data.shape[0])):\r\n",
        "    if data.iloc[i, 6] >= 500 and data.iloc[i, 6] <= 2000:\r\n",
        "        # text_full.append(data.iloc[i, 1] + '\\n' + data.iloc[i, 2])\r\n",
        "        text_pairs.append((data.iloc[i, 1], data.iloc[i, 2]))\r\n",
        "\r\n",
        "# save full text to text file        \r\n",
        "# with open('full_text.txt', 'w', encoding='utf-8') as file:\r\n",
        "#     file.write('\\n'.join(text_full))  "
      ],
      "execution_count": 7,
      "outputs": [
        {
          "output_type": "stream",
          "text": [
            "100%|██████████| 800975/800975 [01:16<00:00, 10437.18it/s]\n"
          ],
          "name": "stderr"
        }
      ]
    },
    {
      "cell_type": "code",
      "metadata": {
        "colab": {
          "base_uri": "https://localhost:8080/"
        },
        "id": "2L2u9ccqdUyr",
        "outputId": "b6641189-2989-4867-bcd4-d4637ec92104"
      },
      "source": [
        "# train tokenizer\r\n",
        "# spm.SentencePieceTrainer.train('--input=full_text.txt --pad_id=0 --bos_id=1 --eos_id=2 --unk_id=3 \\\r\n",
        "#                                --model_prefix=bpe --vocab_size=32000 --model_type=bpe')\r\n",
        "sp = spm.SentencePieceProcessor()\r\n",
        "sp.load('/content/drive/MyDrive/bpe.model')"
      ],
      "execution_count": 8,
      "outputs": [
        {
          "output_type": "execute_result",
          "data": {
            "text/plain": [
              "True"
            ]
          },
          "metadata": {
            "tags": []
          },
          "execution_count": 8
        }
      ]
    },
    {
      "cell_type": "code",
      "metadata": {
        "colab": {
          "base_uri": "https://localhost:8080/"
        },
        "id": "TcS3BZXUdU2L",
        "outputId": "947d75de-0745-4e7a-dbc5-68790828e529"
      },
      "source": [
        "s0 = text_pairs[10][1]\r\n",
        "print(s0[:300])"
      ],
      "execution_count": 9,
      "outputs": [
        {
          "output_type": "stream",
          "text": [
            "Бывший шеф Службы безопасности президента  Александр  Коржаков,  лидер  Движения  в поддержку армии Виктор Илюхин и руководители ряда других движений возглавят блок патриотических сил \"Русский дом\". Выступая сегодня на пресс-конференции в Москве, руководитель \"Союза соотечественников - \"Отчизна\" Бор\n"
          ],
          "name": "stdout"
        }
      ]
    },
    {
      "cell_type": "code",
      "metadata": {
        "colab": {
          "base_uri": "https://localhost:8080/"
        },
        "id": "989eG7badU5d",
        "outputId": "a8b9d681-9a6a-4a61-8dd5-2ee7e474e506"
      },
      "source": [
        "# tokenizer check\r\n",
        "print('encode: text => id:')\r\n",
        "print(sp.encode_as_pieces(s0[:300]))\r\n",
        "print('')\r\n",
        "print(sp.encode_as_ids(s0[:300]))\r\n",
        "print('')\r\n",
        "print('decode: id => text:')\r\n",
        "print(sp.decode_pieces(sp.encode_as_pieces(s0[:300])))\r\n",
        "print('')\r\n",
        "print(f'Beginning of sentence id: {sp.bos_id()}')\r\n",
        "print(f'Pad id: {sp.pad_id()}')\r\n",
        "print(f'End of sentence id: {sp.eos_id()}')\r\n",
        "print(f'Unknown id: {sp.unk_id()}')\r\n",
        "print(f'Vocab size: {sp.vocab_size()}')      "
      ],
      "execution_count": 10,
      "outputs": [
        {
          "output_type": "stream",
          "text": [
            "encode: text => id:\n",
            "['▁Бывший', '▁шеф', '▁Службы', '▁безопасности', '▁президента', '▁Александр', '▁Кор', 'жа', 'ков', ',', '▁лидер', '▁Дви', 'жения', '▁в', '▁поддержку', '▁армии', '▁Виктор', '▁Илю', 'хин', '▁и', '▁руководители', '▁ряда', '▁других', '▁движений', '▁возгла', 'вят', '▁блок', '▁патрио', 'тических', '▁сил', '▁\"', 'Русский', '▁дом', '\".', '▁Выступая', '▁сегодня', '▁на', '▁пресс', '-', 'конференции', '▁в', '▁Москве', ',', '▁руководитель', '▁\"', 'Союза', '▁соотечествен', 'ников', '▁-', '▁\"', 'От', 'чи', 'зна', '\"', '▁Бор']\n",
            "\n",
            "[3923, 22030, 13690, 1407, 886, 1869, 3814, 180, 136, 31894, 1694, 12992, 932, 6, 3708, 3298, 4201, 29054, 7514, 19, 12023, 5343, 1485, 21803, 2138, 4557, 7442, 15948, 6246, 1151, 83, 16139, 2867, 302, 16527, 3303, 27, 782, 31910, 5288, 6, 1066, 31894, 4425, 83, 24745, 10950, 452, 247, 83, 8234, 101, 286, 31905, 9385]\n",
            "\n",
            "decode: id => text:\n",
            "Бывший шеф Службы безопасности президента Александр Коржаков, лидер Движения в поддержку армии Виктор Илюхин и руководители ряда других движений возглавят блок патриотических сил \"Русский дом\". Выступая сегодня на пресс-конференции в Москве, руководитель \"Союза соотечественников - \"Отчизна\" Бор\n",
            "\n",
            "Beginning of sentence id: 1\n",
            "Pad id: 0\n",
            "End of sentence id: 2\n",
            "Unknown id: 3\n",
            "Vocab size: 32000\n"
          ],
          "name": "stdout"
        }
      ]
    },
    {
      "cell_type": "code",
      "metadata": {
        "colab": {
          "base_uri": "https://localhost:8080/"
        },
        "id": "2eOS2ZUWdU84",
        "outputId": "12f0d590-8d47-408c-fbb4-3bd913291fe5"
      },
      "source": [
        "uid = 3814\r\n",
        "spiece = \"\\u2581Кор\"\r\n",
        "unknown = \"_НЕИЗВЕСТНОСТЬ_\"\r\n",
        "\r\n",
        "# id <=> piece conversion\r\n",
        "print(f'SentencePiece for ID {uid}: {sp.id_to_piece(uid)}')\r\n",
        "print(f'ID for Sentence Piece {spiece}: {sp.piece_to_id(spiece)}')\r\n",
        "\r\n",
        "# returns 0 for unknown tokens (we can change the id for UNK)\r\n",
        "print(f'ID for unknown text {unknown}: {sp.piece_to_id(unknown)}')"
      ],
      "execution_count": 11,
      "outputs": [
        {
          "output_type": "stream",
          "text": [
            "SentencePiece for ID 3814: ▁Кор\n",
            "ID for Sentence Piece ▁Кор: 3814\n",
            "ID for unknown text _НЕИЗВЕСТНОСТЬ_: 3\n"
          ],
          "name": "stdout"
        }
      ]
    },
    {
      "cell_type": "code",
      "metadata": {
        "colab": {
          "base_uri": "https://localhost:8080/"
        },
        "id": "tFOPw70bdVAT",
        "outputId": "d8bb930c-92de-439e-b43f-f98cae6d1279"
      },
      "source": [
        "# vocab begin and end test\r\n",
        "print('\\nId\\tSentP\\tControl?')\r\n",
        "print('------------------------')\r\n",
        "for uid in range(7):\r\n",
        "    print(uid, sp.id_to_piece(uid), sp.is_control(uid), sep='\\t')\r\n",
        "    \r\n",
        "for uid in range(sp.vocab_size()-7,sp.vocab_size()):\r\n",
        "    print(uid, sp.id_to_piece(uid), sp.is_control(uid), sep='\\t')"
      ],
      "execution_count": 12,
      "outputs": [
        {
          "output_type": "stream",
          "text": [
            "\n",
            "Id\tSentP\tControl?\n",
            "------------------------\n",
            "0\t<pad>\tTrue\n",
            "1\t<s>\tTrue\n",
            "2\t</s>\tTrue\n",
            "3\t<unk>\tFalse\n",
            "4\t▁п\tFalse\n",
            "5\tст\tFalse\n",
            "6\t▁в\tFalse\n",
            "31993\tV\tFalse\n",
            "31994\tx\tFalse\n",
            "31995\tJ\tFalse\n",
            "31996\tz\tFalse\n",
            "31997\tK\tFalse\n",
            "31998\tU\tFalse\n",
            "31999\tX\tFalse\n"
          ],
          "name": "stdout"
        }
      ]
    },
    {
      "cell_type": "code",
      "metadata": {
        "id": "rH04QCQjdVEH"
      },
      "source": [
        ""
      ],
      "execution_count": null,
      "outputs": []
    }
  ]
}