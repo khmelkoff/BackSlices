{
  "nbformat": 4,
  "nbformat_minor": 0,
  "metadata": {
    "colab": {
      "name": "TraxRuChat.ipynb",
      "provenance": [],
      "authorship_tag": "ABX9TyO2OndhW1W3W7OV3ouL9S15",
      "include_colab_link": true
    },
    "kernelspec": {
      "name": "python3",
      "display_name": "Python 3"
    }
  },
  "cells": [
    {
      "cell_type": "markdown",
      "metadata": {
        "id": "view-in-github",
        "colab_type": "text"
      },
      "source": [
        "<a href=\"https://colab.research.google.com/github/khmelkoff/BackSlices/blob/master/TraxRuChat.ipynb\" target=\"_parent\"><img src=\"https://colab.research.google.com/assets/colab-badge.svg\" alt=\"Open In Colab\"/></a>"
      ]
    },
    {
      "cell_type": "code",
      "metadata": {
        "colab": {
          "base_uri": "https://localhost:8080/"
        },
        "id": "oSGLCkQTNTyI",
        "outputId": "e4096509-b2d7-44a2-b2ac-52cc882767f8"
      },
      "source": [
        "!pip -q install trax"
      ],
      "execution_count": 1,
      "outputs": [
        {
          "output_type": "stream",
          "text": [
            "\u001b[K     |████████████████████████████████| 522kB 7.7MB/s \n",
            "\u001b[K     |████████████████████████████████| 3.4MB 13.4MB/s \n",
            "\u001b[K     |████████████████████████████████| 215kB 52.8MB/s \n",
            "\u001b[K     |████████████████████████████████| 368kB 53.5MB/s \n",
            "\u001b[K     |████████████████████████████████| 1.2MB 47.3MB/s \n",
            "\u001b[K     |████████████████████████████████| 1.8MB 48.4MB/s \n",
            "\u001b[K     |████████████████████████████████| 3.8MB 41.5MB/s \n",
            "\u001b[K     |████████████████████████████████| 71kB 10.9MB/s \n",
            "\u001b[K     |████████████████████████████████| 3.2MB 48.7MB/s \n",
            "\u001b[K     |████████████████████████████████| 890kB 37.5MB/s \n",
            "\u001b[?25h  Building wheel for sacremoses (setup.py) ... \u001b[?25l\u001b[?25hdone\n"
          ],
          "name": "stdout"
        }
      ]
    },
    {
      "cell_type": "code",
      "metadata": {
        "id": "_b4EXajWOAgb"
      },
      "source": [
        "\r\n",
        "import os\r\n",
        "import pandas as pd\r\n",
        "import numpy as np\r\n",
        "from tqdm import tqdm\r\n",
        "import random\r\n",
        "import re\r\n",
        "# from unicodedata import normalize\r\n",
        "# import sentencepiece as spm\r\n",
        "\r\n",
        "import trax\r\n",
        "from trax import layers as tl\r\n",
        "from trax.supervised import decoding\r\n",
        "from trax.supervised import training\r\n",
        "\r\n",
        "import textwrap\r\n",
        "wrapper = textwrap.TextWrapper(width=70)\r\n",
        "\r\n",
        "%matplotlib inline"
      ],
      "execution_count": 2,
      "outputs": []
    },
    {
      "cell_type": "code",
      "metadata": {
        "colab": {
          "base_uri": "https://localhost:8080/"
        },
        "id": "bc17KUPsOBOF",
        "outputId": "00995795-2469-4447-ceaa-0b93f6e733ea"
      },
      "source": [
        "from google.colab import drive\r\n",
        "drive.mount('/content/drive')"
      ],
      "execution_count": 3,
      "outputs": [
        {
          "output_type": "stream",
          "text": [
            "Mounted at /content/drive\n"
          ],
          "name": "stdout"
        }
      ]
    },
    {
      "cell_type": "markdown",
      "metadata": {
        "id": "FJj2ELaDON3u"
      },
      "source": [
        "# Load and clear the dialogues"
      ]
    },
    {
      "cell_type": "code",
      "metadata": {
        "colab": {
          "base_uri": "https://localhost:8080/",
          "height": 196
        },
        "id": "PpWXsgzBOVMt",
        "outputId": "82524be2-842f-46bf-bb19-b383b8ebd10d"
      },
      "source": [
        "data = pd.read_csv('/content/drive/MyDrive/dialogues.tsv', sep='\\t')\r\n",
        "data.head()"
      ],
      "execution_count": 4,
      "outputs": [
        {
          "output_type": "execute_result",
          "data": {
            "text/html": [
              "<div>\n",
              "<style scoped>\n",
              "    .dataframe tbody tr th:only-of-type {\n",
              "        vertical-align: middle;\n",
              "    }\n",
              "\n",
              "    .dataframe tbody tr th {\n",
              "        vertical-align: top;\n",
              "    }\n",
              "\n",
              "    .dataframe thead th {\n",
              "        text-align: right;\n",
              "    }\n",
              "</style>\n",
              "<table border=\"1\" class=\"dataframe\">\n",
              "  <thead>\n",
              "    <tr style=\"text-align: right;\">\n",
              "      <th></th>\n",
              "      <th>persona_1_profile</th>\n",
              "      <th>persona_2_profile</th>\n",
              "      <th>dialogue</th>\n",
              "    </tr>\n",
              "  </thead>\n",
              "  <tbody>\n",
              "    <tr>\n",
              "      <th>0</th>\n",
              "      <td>&lt;span class=participant_1&gt;У меня любимая работ...</td>\n",
              "      <td>&lt;span class=participant_2&gt;Ищу принца.&lt;br /&gt;Вед...</td>\n",
              "      <td>&lt;span class=participant_2&gt;Пользователь 2: Прив...</td>\n",
              "    </tr>\n",
              "    <tr>\n",
              "      <th>1</th>\n",
              "      <td>&lt;span class=participant_1&gt;Я работаю учителем&lt;b...</td>\n",
              "      <td>&lt;span class=participant_2&gt;Я бизнесмен&lt;br /&gt;У м...</td>\n",
              "      <td>&lt;span class=participant_1&gt;Пользователь 1: Прив...</td>\n",
              "    </tr>\n",
              "    <tr>\n",
              "      <th>2</th>\n",
              "      <td>&lt;span class=participant_1&gt;Я купила дом&lt;br /&gt;Я ...</td>\n",
              "      <td>&lt;span class=participant_2&gt;Я пою в караоке&lt;br /...</td>\n",
              "      <td>&lt;span class=participant_1&gt;Пользователь 1: Прив...</td>\n",
              "    </tr>\n",
              "    <tr>\n",
              "      <th>3</th>\n",
              "      <td>&lt;span class=participant_1&gt;я врач и женат&lt;br /&gt;...</td>\n",
              "      <td>&lt;span class=participant_2&gt;Я мальчик&lt;br /&gt;Я учу...</td>\n",
              "      <td>&lt;span class=participant_2&gt;Пользователь 2: Здра...</td>\n",
              "    </tr>\n",
              "    <tr>\n",
              "      <th>4</th>\n",
              "      <td>&lt;span class=participant_1&gt;Я школьница.&lt;br /&gt;Я ...</td>\n",
              "      <td>&lt;span class=participant_2&gt;Я простоват.&lt;br /&gt;Лю...</td>\n",
              "      <td>&lt;span class=participant_1&gt;Пользователь 1: Прив...</td>\n",
              "    </tr>\n",
              "  </tbody>\n",
              "</table>\n",
              "</div>"
            ],
            "text/plain": [
              "                                   persona_1_profile  ...                                           dialogue\n",
              "0  <span class=participant_1>У меня любимая работ...  ...  <span class=participant_2>Пользователь 2: Прив...\n",
              "1  <span class=participant_1>Я работаю учителем<b...  ...  <span class=participant_1>Пользователь 1: Прив...\n",
              "2  <span class=participant_1>Я купила дом<br />Я ...  ...  <span class=participant_1>Пользователь 1: Прив...\n",
              "3  <span class=participant_1>я врач и женат<br />...  ...  <span class=participant_2>Пользователь 2: Здра...\n",
              "4  <span class=participant_1>Я школьница.<br />Я ...  ...  <span class=participant_1>Пользователь 1: Прив...\n",
              "\n",
              "[5 rows x 3 columns]"
            ]
          },
          "metadata": {
            "tags": []
          },
          "execution_count": 4
        }
      ]
    },
    {
      "cell_type": "code",
      "metadata": {
        "colab": {
          "base_uri": "https://localhost:8080/"
        },
        "id": "tSuV5mxHOtti",
        "outputId": "92784dff-5ee5-4312-fc89-bd2cf24814a5"
      },
      "source": [
        "test = data.dialogue.iloc[0]\r\n",
        "print(wrapper.fill(test))"
      ],
      "execution_count": 7,
      "outputs": [
        {
          "output_type": "stream",
          "text": [
            "<span class=participant_2>Пользователь 2: Привет) расскажи о\n",
            "себе</span><br /><span class=participant_1>Пользователь 1: Привет) под\n",
            "вкусный кофеек настроение поболтать появилось<br />)</span><br /><span\n",
            "class=participant_2>Пользователь 2: Что читаешь? Мне нравится\n",
            "классика</span><br /><span class=participant_2>Пользователь 2: Я тоже\n",
            "люблю пообщаться</span><br /><span class=participant_1>Пользователь 1:\n",
            "Люблю животных, просто обожаю, как и свою работу)</span><br /><span\n",
            "class=participant_1>Пользователь 1: Я фантастику люблю</span><br\n",
            "/><span class=participant_2>Пользователь 2: А я выращиваю\n",
            "фиалки</span><br /><span class=participant_2>Пользователь 2: И веду\n",
            "здоровый и активный образ жизни!</span><br /><span\n",
            "class=participant_1>Пользователь 1: Ух ты, интересно.</span><br\n",
            "/><span class=participant_2>Пользователь 2: Ты случайно не принц на\n",
            "белом коне? Я его очень жду<br />..</span><br /><span\n",
            "class=participant_1>Пользователь 1: А у меня из хобби каждую неделю\n",
            "тусить с моим лучшим<br />другом)</span><br />\n"
          ],
          "name": "stdout"
        }
      ]
    },
    {
      "cell_type": "code",
      "metadata": {
        "id": "mK2nRR9WOtwt"
      },
      "source": [
        "def dialogue_clearing(string):\r\n",
        "    '''\r\n",
        "    Clear text from special characters\r\n",
        "    Args:\r\n",
        "        string (string): one dialog text\r\n",
        "    Return:\r\n",
        "        list of senteces\r\n",
        "    '''\r\n",
        "    clear_dialogue = []\r\n",
        "    for s in string.split('</span>'):\r\n",
        "        s = re.sub('<span class=participant_1>', '', s)\r\n",
        "        s = re.sub('<span class=participant_2>', '', s)\r\n",
        "        s = re.sub(r'^<br />', '', s)\r\n",
        "        s = re.sub('<br />', ' ', s)\r\n",
        "        s = re.sub(' ,', ',', s)\r\n",
        "        s = re.sub(' \\.', '.', s)\r\n",
        "        s = re.sub(',', ', ', s)\r\n",
        "        s = re.sub('  ', ' ', s)\r\n",
        "        s = re.sub(r'\\r\\n', ' ', s)\r\n",
        "        s = re.sub('\"', '', s)\r\n",
        "        \r\n",
        "        if len(s) != 0:\r\n",
        "            clear_dialogue.append(s)\r\n",
        "    \r\n",
        "    return clear_dialogue"
      ],
      "execution_count": 8,
      "outputs": []
    },
    {
      "cell_type": "code",
      "metadata": {
        "colab": {
          "base_uri": "https://localhost:8080/"
        },
        "id": "3lvWTxGeOt01",
        "outputId": "773b92e7-405e-4870-d50b-acaa6a5a09ec"
      },
      "source": [
        "for s in dialogue_clearing(test):\r\n",
        "    print(s)"
      ],
      "execution_count": 11,
      "outputs": [
        {
          "output_type": "stream",
          "text": [
            "Пользователь 2: Привет) расскажи о себе\n",
            "Пользователь 1: Привет) под вкусный кофеек настроение поболтать появилось )\n",
            "Пользователь 2: Что читаешь? Мне нравится классика\n",
            "Пользователь 2: Я тоже люблю пообщаться\n",
            "Пользователь 1: Люблю животных, просто обожаю, как и свою работу)\n",
            "Пользователь 1: Я фантастику люблю\n",
            "Пользователь 2: А я выращиваю фиалки\n",
            "Пользователь 2: И веду здоровый и активный образ жизни!\n",
            "Пользователь 1: Ух ты, интересно.\n",
            "Пользователь 2: Ты случайно не принц на белом коне? Я его очень жду..\n",
            "Пользователь 1: А у меня из хобби каждую неделю тусить с моим лучшим другом)\n"
          ],
          "name": "stdout"
        }
      ]
    },
    {
      "cell_type": "code",
      "metadata": {
        "id": "HMDGkSU8Ot3-"
      },
      "source": [
        "def dialogue_concat(sentences_list):\r\n",
        "    '''\r\n",
        "    Concatenate several consecutive sentences of one user to one sequence\r\n",
        "    \r\n",
        "    Args:\r\n",
        "        sentences_list (list): list of sentences for one dialogue\r\n",
        "    Return:\r\n",
        "        list of senteces\r\n",
        "    '''\r\n",
        "    clear_dialogue_concat = [sentences_list[0]]\r\n",
        "    for i in range(1, len(sentences_list)):\r\n",
        "        s = sentences_list[i]\r\n",
        "        if clear_dialogue_concat[-1][:15] == s[:15]:\r\n",
        "            clear_dialogue_concat[-1] = clear_dialogue_concat[-1] + ' ' + s[16:] \r\n",
        "        else:\r\n",
        "            clear_dialogue_concat.append(s)\r\n",
        "            \r\n",
        "    return clear_dialogue_concat    "
      ],
      "execution_count": 12,
      "outputs": []
    },
    {
      "cell_type": "code",
      "metadata": {
        "colab": {
          "base_uri": "https://localhost:8080/"
        },
        "id": "DqR19YiUOt7f",
        "outputId": "01e19e8c-08af-4de3-851f-8a7d1ef46e8c"
      },
      "source": [
        "dialogue = dialogue_clearing(test)\r\n",
        "for s in dialogue_concat(dialogue):\r\n",
        "    print(s)"
      ],
      "execution_count": 13,
      "outputs": [
        {
          "output_type": "stream",
          "text": [
            "Пользователь 2: Привет) расскажи о себе\n",
            "Пользователь 1: Привет) под вкусный кофеек настроение поболтать появилось )\n",
            "Пользователь 2: Что читаешь? Мне нравится классика Я тоже люблю пообщаться\n",
            "Пользователь 1: Люблю животных, просто обожаю, как и свою работу) Я фантастику люблю\n",
            "Пользователь 2: А я выращиваю фиалки И веду здоровый и активный образ жизни!\n",
            "Пользователь 1: Ух ты, интересно.\n",
            "Пользователь 2: Ты случайно не принц на белом коне? Я его очень жду..\n",
            "Пользователь 1: А у меня из хобби каждую неделю тусить с моим лучшим другом)\n"
          ],
          "name": "stdout"
        }
      ]
    },
    {
      "cell_type": "code",
      "metadata": {
        "id": "f36K9575PjYe"
      },
      "source": [
        "def swap_users(sentence_list):\r\n",
        "    '''\r\n",
        "    Swap user2 to user1\r\n",
        "    \r\n",
        "    Args:\r\n",
        "        sentences_list (list): list of sentences for one dialogue\r\n",
        "    Return:\r\n",
        "        list of senteces\r\n",
        "    '''\r\n",
        "    dialogue = []\r\n",
        "    for s in sentence_list:\r\n",
        "        if s.find('Пользователь 2:') == 0:\r\n",
        "            s = re.sub('Пользователь 2:', 'Пользователь 1:', s)\r\n",
        "            dialogue.append(s)\r\n",
        "            continue\r\n",
        "    \r\n",
        "        if s.find('Пользователь 1:') == 0:\r\n",
        "            s = re.sub('Пользователь 1:', 'Пользователь 2:', s)\r\n",
        "            dialogue.append(s)\r\n",
        "            continue\r\n",
        "    \r\n",
        "    return dialogue"
      ],
      "execution_count": 14,
      "outputs": []
    },
    {
      "cell_type": "code",
      "metadata": {
        "colab": {
          "base_uri": "https://localhost:8080/"
        },
        "id": "w_I35SjOPu6-",
        "outputId": "6cf30951-3120-4665-f169-4bc991f57f71"
      },
      "source": [
        "dialogue = dialogue_clearing(test)\r\n",
        "dialogue = dialogue_concat(dialogue)\r\n",
        "for s in swap_users(dialogue):\r\n",
        "    print(s)"
      ],
      "execution_count": 15,
      "outputs": [
        {
          "output_type": "stream",
          "text": [
            "Пользователь 1: Привет) расскажи о себе\n",
            "Пользователь 2: Привет) под вкусный кофеек настроение поболтать появилось )\n",
            "Пользователь 1: Что читаешь? Мне нравится классика Я тоже люблю пообщаться\n",
            "Пользователь 2: Люблю животных, просто обожаю, как и свою работу) Я фантастику люблю\n",
            "Пользователь 1: А я выращиваю фиалки И веду здоровый и активный образ жизни!\n",
            "Пользователь 2: Ух ты, интересно.\n",
            "Пользователь 1: Ты случайно не принц на белом коне? Я его очень жду..\n",
            "Пользователь 2: А у меня из хобби каждую неделю тусить с моим лучшим другом)\n"
          ],
          "name": "stdout"
        }
      ]
    },
    {
      "cell_type": "code",
      "metadata": {
        "colab": {
          "base_uri": "https://localhost:8080/"
        },
        "id": "u8OGW4v3P0Ca",
        "outputId": "ffffce53-5ec3-4994-de9b-30251631eff3"
      },
      "source": [
        "# process the raw data\r\n",
        "full_text = ''\r\n",
        "dialogue_len = []\r\n",
        "untokenized_data = []\r\n",
        "for i in tqdm(range(data.shape[0])):\r\n",
        "    dialogue = data.dialogue.iloc[i]\r\n",
        "    \r\n",
        "    dialogue = dialogue_clearing(dialogue)\r\n",
        "    dialogue = dialogue_concat(dialogue)\r\n",
        "    \r\n",
        "    if dialogue[0].find('Пользователь 2:') == 0:\r\n",
        "        dialogue = swap_users(dialogue)\r\n",
        "        \r\n",
        "    string = ' ' + ' '.join(dialogue)\r\n",
        "    string_len = len(string.split())\r\n",
        "    dialogue_len.append(string_len)\r\n",
        "    full_text += string + '\\n'\r\n",
        "    untokenized_data.append(string)\r\n",
        "    \r\n",
        "# with open('full_text.txt', 'w', encoding='utf-8') as file:\r\n",
        "#      file.write(full_text)   "
      ],
      "execution_count": 29,
      "outputs": [
        {
          "output_type": "stream",
          "text": [
            "100%|██████████| 10013/10013 [00:04<00:00, 2358.29it/s]\n"
          ],
          "name": "stderr"
        }
      ]
    },
    {
      "cell_type": "code",
      "metadata": {
        "colab": {
          "base_uri": "https://localhost:8080/"
        },
        "id": "5mRW_ERJQFeO",
        "outputId": "3968392b-9c52-4d40-8131-9180a66c38dd"
      },
      "source": [
        "print(wrapper.fill(untokenized_data[0]))"
      ],
      "execution_count": 30,
      "outputs": [
        {
          "output_type": "stream",
          "text": [
            " Пользователь 1: Привет) расскажи о себе Пользователь 2: Привет) под\n",
            "вкусный кофеек настроение поболтать появилось ) Пользователь 1: Что\n",
            "читаешь? Мне нравится классика Я тоже люблю пообщаться Пользователь 2:\n",
            "Люблю животных, просто обожаю, как и свою работу) Я фантастику люблю\n",
            "Пользователь 1: А я выращиваю фиалки И веду здоровый и активный образ\n",
            "жизни! Пользователь 2: Ух ты, интересно. Пользователь 1: Ты случайно\n",
            "не принц на белом коне? Я его очень жду.. Пользователь 2: А у меня из\n",
            "хобби каждую неделю тусить с моим лучшим другом)\n"
          ],
          "name": "stdout"
        }
      ]
    },
    {
      "cell_type": "code",
      "metadata": {
        "id": "YcD5sF7rQg17"
      },
      "source": [
        "# train tokenizer\r\n",
        "# spm.SentencePieceTrainer.train('--input=full_text.txt --pad_id=0 --bos_id=-1 --eos_id=1 --unk_id=2 \\\r\n",
        "#                                 --model_prefix=bpe --vocab_size=32000 --model_type=bpe')"
      ],
      "execution_count": null,
      "outputs": []
    },
    {
      "cell_type": "markdown",
      "metadata": {
        "id": "3WlMwLaMQSgO"
      },
      "source": [
        "# Data preprocessing and create the generator"
      ]
    },
    {
      "cell_type": "code",
      "metadata": {
        "colab": {
          "base_uri": "https://localhost:8080/"
        },
        "id": "-3NK5Hw7QJln",
        "outputId": "b4bbc03c-3b77-4c4f-db9c-0236631a6760"
      },
      "source": [
        "# loading prepared set to save time\r\n",
        "untokenized_data = pd.read_csv('/content/drive/MyDrive/dialogues.csv', sep=';', header=None, encoding='utf-8')\r\n",
        "untokenized_data = list(untokenized_data.iloc[:,0])\r\n",
        "print(wrapper.fill(untokenized_data[0]))"
      ],
      "execution_count": 58,
      "outputs": [
        {
          "output_type": "stream",
          "text": [
            " Пользователь 1: Привет) расскажи о себе Пользователь 2: Привет) под\n",
            "вкусный кофеек настроение поболтать появилось ) Пользователь 1: Что\n",
            "читаешь? Мне нравится классика Я тоже люблю пообщаться Пользователь 2:\n",
            "Люблю животных, просто обожаю, как и свою работу) Я фантастику люблю\n",
            "Пользователь 1: А я выращиваю фиалки И веду здоровый и активный образ\n",
            "жизни! Пользователь 2: Ух ты, интересно. Пользователь 1: Ты случайно\n",
            "не принц на белом коне? Я его очень жду.. Пользователь 2: А у меня из\n",
            "хобби каждую неделю тусить с моим лучшим другом)\n"
          ],
          "name": "stdout"
        }
      ]
    },
    {
      "cell_type": "code",
      "metadata": {
        "colab": {
          "base_uri": "https://localhost:8080/"
        },
        "id": "bqxEykiLRhoo",
        "outputId": "789ea98a-15d8-47c6-f6c8-104f5158bdb8"
      },
      "source": [
        "# train/eval split\r\n",
        "margin = int(len(untokenized_data)*0.9)\r\n",
        "train_dialogues = untokenized_data[:margin]\r\n",
        "print('train cases: ', len(train_dialogues))\r\n",
        "eval_dialogues = untokenized_data[margin:]\r\n",
        "print('eval cases: ', len(eval_dialogues))"
      ],
      "execution_count": 59,
      "outputs": [
        {
          "output_type": "stream",
          "text": [
            "train cases:  9011\n",
            "eval cases:  1002\n"
          ],
          "name": "stdout"
        }
      ]
    },
    {
      "cell_type": "code",
      "metadata": {
        "id": "W724qoS9R783"
      },
      "source": [
        "def data_generator(data, shuffle=True):\r\n",
        "    '''\r\n",
        "      Input: \r\n",
        "        data - list of dialogues\r\n",
        "        shuffle - If True: shuffle the data order\r\n",
        "      Output:\r\n",
        "        a tuple containing 2 elements:\r\n",
        "        article\r\n",
        "        summary\r\n",
        "    '''\r\n",
        "    \r\n",
        "    data_lng = len(data) # len(data)\r\n",
        "    index_list = [*range(data_lng)] # Create a list with the ordered indexes of sample data\r\n",
        "\r\n",
        "    if shuffle:\r\n",
        "        random.shuffle(index_list) # re-shuffle the order\r\n",
        "    \r\n",
        "    index = 0 # Start with the first element\r\n",
        "    while True:\r\n",
        "        # Wrap the index each time that we reach the end of the list\r\n",
        "        if index >= data_lng:\r\n",
        "            index = 0\r\n",
        "            if shuffle:\r\n",
        "                random.shuffle(index_list) # re-shuffle the order\r\n",
        "            \r\n",
        "        sample = data[index_list[index]]\r\n",
        "        index += 1\r\n",
        "        yield(sample, sample) # input and target\r\n",
        "\r\n",
        "# create data streams\r\n",
        "def train_data_stream():\r\n",
        "    return data_generator(train_dialogues, shuffle=True)\r\n",
        "\r\n",
        "def eval_data_stream():\r\n",
        "    return data_generator(eval_dialogues, shuffle=True)"
      ],
      "execution_count": 103,
      "outputs": []
    },
    {
      "cell_type": "code",
      "metadata": {
        "id": "pVJ10rUpcLHU"
      },
      "source": [
        "# def stream(data):\r\n",
        "#     # loop over the entire data\r\n",
        "#     while True:\r\n",
        "#         # get a random element\r\n",
        "#         d = random.choice(data)\r\n",
        "        \r\n",
        "#         # yield a tuple pair of identical values \r\n",
        "#         # (i.e. our inputs to the model will also be our targets during training)\r\n",
        "#         yield (d, d)"
      ],
      "execution_count": 78,
      "outputs": []
    },
    {
      "cell_type": "code",
      "metadata": {
        "colab": {
          "base_uri": "https://localhost:8080/"
        },
        "id": "-IAKBBLSSbh6",
        "outputId": "aada441e-8925-467e-9878-07df2cb7cc06"
      },
      "source": [
        "def detokenize(integers):\r\n",
        "    s = trax.data.detokenize(\r\n",
        "        integers,\r\n",
        "        vocab_type='sentencepiece',\r\n",
        "        vocab_file='bpe32.model',\r\n",
        "        vocab_dir='/content/drive/MyDrive/') # loading pre-trained tokenizer model to save time\r\n",
        "\r\n",
        "    s = re.sub('Пользователь', '\\nПользователь', s)\r\n",
        "\r\n",
        "    return s\r\n",
        "\r\n",
        "def tokenize(s):\r\n",
        "    inputs =  next(trax.data.tokenize(\r\n",
        "        iter([s]),\r\n",
        "        vocab_type='sentencepiece',\r\n",
        "        vocab_file='bpe32.model',\r\n",
        "        vocab_dir='/content/drive/MyDrive/'))\r\n",
        "    \r\n",
        "    return list(inputs) \r\n",
        "    \r\n",
        "vocab_size = trax.data.vocab_size(\r\n",
        "    vocab_type='sentencepiece',\r\n",
        "    vocab_file='bpe32.model',\r\n",
        "    vocab_dir='/content/drive/MyDrive/')\r\n",
        "\r\n",
        "print('vocab size: ', vocab_size)"
      ],
      "execution_count": 91,
      "outputs": [
        {
          "output_type": "stream",
          "text": [
            "vocab size:  32000\n"
          ],
          "name": "stdout"
        }
      ]
    },
    {
      "cell_type": "code",
      "metadata": {
        "colab": {
          "base_uri": "https://localhost:8080/"
        },
        "id": "vlzSzHHBexvU",
        "outputId": "83b21b02-e956-4cab-b316-d8ec41dbaa55"
      },
      "source": [
        "tokenize('Пользователь')"
      ],
      "execution_count": 89,
      "outputs": [
        {
          "output_type": "execute_result",
          "data": {
            "text/plain": [
              "[13]"
            ]
          },
          "metadata": {
            "tags": []
          },
          "execution_count": 89
        }
      ]
    },
    {
      "cell_type": "code",
      "metadata": {
        "id": "kHOE73afSunn"
      },
      "source": [
        "# trax allows us to use combinators to generate our data pipeline\r\n",
        "data_pipeline = trax.data.Serial(\r\n",
        "    \r\n",
        "    trax.data.Shuffle(),\r\n",
        "    \r\n",
        "    # tokenize the data\r\n",
        "    trax.data.Tokenize(vocab_type='sentencepiece',\r\n",
        "                       vocab_dir='/content/drive/MyDrive/',\r\n",
        "                       vocab_file='bpe32.model'),\r\n",
        "    \r\n",
        "    # filter too long sequences\r\n",
        "    trax.data.FilterByLength(2048),\r\n",
        "    \r\n",
        "    # bucket by length\r\n",
        "    trax.data.BucketByLength(boundaries=[128, 256, 512, 1024],\r\n",
        "                             batch_sizes=[32, 16, 8, 4, 2]),\r\n",
        "    \r\n",
        "    # add loss weights but do not add it to the padding tokens (i.e. 0)\r\n",
        "    trax.data.AddLossWeights(id_to_mask=0)\r\n",
        ")\r\n",
        "\r\n",
        "# apply the data pipeline to our train and eval sets\r\n",
        "train_stream = data_pipeline(data_generator(train_dialogues))\r\n",
        "eval_stream = data_pipeline(data_generator(eval_dialogues))"
      ],
      "execution_count": 104,
      "outputs": []
    },
    {
      "cell_type": "code",
      "metadata": {
        "colab": {
          "base_uri": "https://localhost:8080/"
        },
        "id": "OlZrmKpkUrYR",
        "outputId": "847522cf-9204-4901-97ac-c1e4987d8165"
      },
      "source": [
        "# the stream generators will yield (input, target, weights). let's just grab the input for inspection\r\n",
        "inp, _, _ = next(train_stream)\r\n",
        "\r\n",
        "# print the shape. format is (batch size, token length)\r\n",
        "print(\"input shape: \", inp.shape)\r\n",
        "\r\n",
        "# detokenize the first element\r\n",
        "print(detokenize(inp[0]))"
      ],
      "execution_count": 105,
      "outputs": [
        {
          "output_type": "stream",
          "text": [
            "input shape:  (8, 512)\n",
            "\n",
            "Пользователь 1: Здравствуйте! Как дела? \n",
            "Пользователь 2: Здравствуйте. замечательно. приготовил себе салат из кресс- салата. чем вы заняты? \n",
            "Пользователь 1: Гоняю пьяных работников )) Я управдом, слежу за порядком, вот только отдохнуть присел. А вы чем занимаетесь ? \n",
            "Пользователь 2: Ем салат из свежих овощей и запивают его минеральной водой. Иногда очень скучно одному, сидеть дома, поэтому по вечера гуляю, дышу свежим воздухом. А вы любите прогулки? \n",
            "Пользователь 1: Да, но времени на них мало, постоянно в работе. К счастью я люблю свою работу, поэтому не сильно страдаю от нехватки времени на досуг. А вы вегетарианец? \n",
            "Пользователь 2: Не то, чтобы вегетарианец. ем иногда мясо, очень редко. я за ЗОЖ А как ваша семья относится к вашей работе, вас наверное постоянно нет дома? \n",
            "Пользователь 1: Похвально. Я вот пьяных не люблю, вечно допекают своими выходками в доме, бывало даже дрался с ними. А так я добрый и отзывчивый) Помимо ЗОЖа чем ещё занимаетесь ? \n",
            "Пользователь 2: Работаю на телевидении, за целый день столько всего наслушаюсь и насмотрюсь, что дома телевизор не имею \n",
            "Пользователь 1: Сапожник без сапог )) Оно и правильно, я вот тоже в основном в Интернете, там информация достовернее. А вы любите читать? \n",
            "Пользователь 2: А как ваша семья относится к вашей работе, вас наверное постоянно нет дома? Читать я люблю. Классику в основном. Чехов, Достоевский, Тургенев. \n",
            "Пользователь 1: Так я ж управдом в своей девятиэтажек, дома бываю довольно часто. Минус в том, что вечно кто- то приходит со своими проблемами. А я вот Булгакова и Гоголя люблю.\n"
          ],
          "name": "stdout"
        }
      ]
    },
    {
      "cell_type": "markdown",
      "metadata": {
        "id": "aZz6hVaDfvOJ"
      },
      "source": [
        "# Model"
      ]
    },
    {
      "cell_type": "code",
      "metadata": {
        "id": "aSkIwZxDfdux"
      },
      "source": [
        ""
      ],
      "execution_count": null,
      "outputs": []
    }
  ]
}